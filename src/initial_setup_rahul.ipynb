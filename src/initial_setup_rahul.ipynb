{
 "cells": [
  {
   "cell_type": "code",
   "execution_count": null,
   "metadata": {
    "collapsed": true
   },
   "outputs": [],
   "source": [
    "% reload_ext sql\n",
    "import os\n",
    "import sqlite3\n",
    "\n",
    "survey_db_url = 'sqlite:////Users/reethsharma/git/cca/cs513_project/farmers_market.db'\n",
    "% sql $survey_db_url\n",
    "% % sql\n",
    "SELECT * FROM\n",
    "farmers_market\n",
    "limit\n",
    "10;\n",
    "### Next instructions are used to valdiate schema\n",
    "from pyspark.sql import SparkSession\n",
    "\n",
    "# Create SparkSession\n",
    "spark = SparkSession.builder\n",
    ".master(\"local[1]\")\n",
    ".appName(\"test\")\n",
    ".getOrCreate()\n",
    "df = spark.read.format(\"csv\").option(\"header\", \"true\").load(\"dataset/farmers_market.csv\", inferSchema=True)\n",
    "df.createTempView(\"test\")\n",
    "spark.sql(\"select count(*) from test\").show()\n",
    "spark.sql(\"select * from test\").head()\n",
    "df.printSchema()"
   ]
  }
 ],
 "metadata": {
  "kernelspec": {
   "display_name": "Python 3",
   "language": "python",
   "name": "python3"
  },
  "language_info": {
   "codemirror_mode": {
    "name": "ipython",
    "version": 2
   },
   "file_extension": ".py",
   "mimetype": "text/x-python",
   "name": "python",
   "nbconvert_exporter": "python",
   "pygments_lexer": "ipython2",
   "version": "2.7.6"
  }
 },
 "nbformat": 4,
 "nbformat_minor": 0
}