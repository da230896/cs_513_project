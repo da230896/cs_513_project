{
 "cells": [
  {
   "cell_type": "code",
   "execution_count": null,
   "metadata": {
    "collapsed": true
   },
   "outputs": [],
   "source": [
    "% reload_ext sql\n",
    "import os\n",
    "import sqlite3\n",
    "\n",
    "survey_db_url = 'sqlite:////Users/reethsharma/git/cca/cs513_project/farmers_market.db'\n",
    "% sql $survey_db_url\n",
    "% % sql\n",
    "SELECT * FROM\n",
    "farmers_market\n",
    "limit\n",
    "10;\n",
    "### Next instructions are used to valdiate schema\n",
    "from pyspark.sql import SparkSession\n",
    "\n",
    "# Create SparkSession\n",
    "spark = SparkSession.builder\n",
    ".master(\"local[1]\")\n",
    ".appName(\"test\")\n",
    ".getOrCreate()\n",
    "df = spark.read.format(\"csv\").option(\"header\", \"true\").load(\"dataset/farmers_market.csv\", inferSchema=True)\n",
    "df.createTempView(\"test\")\n",
    "spark.sql(\"select count(*) from test\").show()\n",
    "spark.sql(\"select * from test\").head()\n",
    "df.printSchema()"
   ]
  },
  {
   "cell_type": "code",
   "execution_count": null,
   "outputs": [],
   "source": [
    "\"\"\"\n",
    "## Refer <Project Root>/database/console_rahul.sql for next provenance steps\n",
    "# @BEGIN Data_redundancy_and_normalization\n",
    "# @BEGIN load\n",
    "# @IN database @URI file:{DATASET_LOC}/../database/farmers_market.db\n",
    "# @OUT db\n",
    "# @END load\n",
    "# @BEGIN cities_normalize_and_constraints\n",
    "# @IN db\n",
    "# @OUT normalized_cities\n",
    "# @END cities_normalize_and_constraints\n",
    "# @BEGIN export_cities\n",
    "# @IN normalized_cities\n",
    "# @OUT cities @URI file:{DATASET_LOC}/output/cities.csv\n",
    "# @END normalize_cities\n",
    "# @BEGIN states_normalize_and_constraints\n",
    "# @IN db\n",
    "# @OUT normalized_states\n",
    "# @END states_normalize_and_constraints\n",
    "# @BEGIN export_states\n",
    "# @IN normalized_states\n",
    "# @OUT states @URI file:{DATASET_LOC}/output/states.csv\n",
    "# @END export_states\n",
    "# @END Data_redundancy_and_normalization\n",
    "\"\"\""
   ],
   "metadata": {
    "collapsed": false,
    "pycharm": {
     "name": "#%%\n"
    }
   }
  }
 ],
 "metadata": {
  "kernelspec": {
   "display_name": "Python 3",
   "language": "python",
   "name": "python3"
  },
  "language_info": {
   "codemirror_mode": {
    "name": "ipython",
    "version": 2
   },
   "file_extension": ".py",
   "mimetype": "text/x-python",
   "name": "python",
   "nbconvert_exporter": "python",
   "pygments_lexer": "ipython2",
   "version": "2.7.6"
  }
 },
 "nbformat": 4,
 "nbformat_minor": 0
}