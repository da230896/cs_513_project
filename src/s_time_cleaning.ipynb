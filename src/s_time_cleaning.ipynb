{
 "cells": [
  {
   "cell_type": "code",
   "execution_count": null,
   "metadata": {
    "collapsed": true,
    "pycharm": {
     "name": "#%%\n"
    }
   },
   "outputs": [],
   "source": [
    "import os\n",
    "import re\n",
    "import sqlite3\n",
    "import datetime\n",
    "import pandas as pd\n",
    "from IPython.display import display\n",
    "from Utils import parse_date, FMID, simple_date_pattern, year_pattern, parse_complex_date, ZIP, zip_code_db, parse_time,\\\n",
    "    validate_zip_code\n",
    "\n",
    "# we should convert this notebook to open refine and then convert the steps to workflow using yes workflow\n",
    "\n",
    "S_TIME = \"Season4Time\"\n",
    "S_TIME_DICT = \"Season4TimeDict\" # remember to use pickl\n",
    "S_TIME_LIST = \"Season4TimeList\" # remember to use pickl\n",
    "FILE_NAME = \"cl_farmers_s4time.csv\"\n",
    "WEEKDAYS = [\"mon\", \"tue\", \"wed\", \"thu\", \"fri\", \"sat\", \"sun\"]\n",
    "\n",
    "df = pd.read_csv(os.path.join(\"..\", \"dataset\", \"input\", \"farmers_market.csv\"))\n",
    "print(\"df.shape[0]\", df.shape[0])\n",
    "assert df[FMID].nunique() == df.shape[0]"
   ]
  },
  {
   "cell_type": "markdown",
   "metadata": {},
   "source": [
    "Setting up basic util data frames"
   ]
  },
  {
   "cell_type": "code",
   "execution_count": null,
   "metadata": {
    "collapsed": false,
    "pycharm": {
     "name": "#%%\n"
    }
   },
   "outputs": [],
   "source": [
    "time = df[[FMID, S_TIME, ZIP]].dropna()\n",
    "time[S_TIME] = time[S_TIME].astype(str)\n",
    "time[ZIP] = time[ZIP].astype(str)\n",
    "# should have valid zip code\n",
    "print(\"invalid zip code row count\", len(time.loc[time[ZIP].apply(validate_zip_code) == False]))\n",
    "time = time.loc[time[ZIP].apply(validate_zip_code) == True]\n",
    "\n",
    "print(\"Number of FMIDs with improper timings(without ;)\", len(time.loc[time[S_TIME].str.contains(\";\") == False]))\n",
    "time = time.loc[time[S_TIME].str.contains(\";\") == True] # should contain \";\"\n",
    "time = time.loc[time[S_TIME].str.replace(\" \", \"\").str.isalpha() == False] # should contain some numeric data and should not be completely alphabetical\n",
    "# print(time.shape[0])"
   ]
  },
  {
   "cell_type": "code",
   "execution_count": null,
   "metadata": {},
   "outputs": [],
   "source": [
    "time[S_TIME_LIST] = time.apply(lambda r: r[S_TIME].split(\";\"), axis=1)\n",
    "display(time)"
   ]
  },
  {
   "cell_type": "code",
   "execution_count": null,
   "metadata": {},
   "outputs": [],
   "source": [
    "time[S_TIME_DICT] = time.apply(parse_time, axis=1, args=(S_TIME_LIST,))"
   ]
  },
  {
   "cell_type": "markdown",
   "metadata": {},
   "source": [
    "Defining columns for weekdays"
   ]
  },
  {
   "cell_type": "code",
   "execution_count": null,
   "metadata": {},
   "outputs": [],
   "source": [
    "for weekday in WEEKDAYS:\n",
    "    time[weekday+\"_start\"] = [\"\"]*time.shape[0]\n",
    "    time[weekday+\"_end\"] = [\"\"]*time.shape[0]"
   ]
  },
  {
   "cell_type": "code",
   "execution_count": null,
   "metadata": {},
   "outputs": [],
   "source": [
    "def flatten_data(r: pd.Series):\n",
    "    data = r[S_TIME_DICT]\n",
    "    for key, value in data.items():\n",
    "        r[key+\"_start\"] = value[0]\n",
    "        r[key+\"_end\"] = value[1]\n",
    "    return r\n",
    "\n",
    "time = time.apply(flatten_data, axis=1)    "
   ]
  },
  {
   "cell_type": "code",
   "execution_count": null,
   "metadata": {},
   "outputs": [],
   "source": [
    "display(time)\n",
    "df_to_save = time.drop([S_TIME, S_TIME_LIST, S_TIME_DICT], axis=1)"
   ]
  },
  {
   "cell_type": "code",
   "execution_count": null,
   "metadata": {},
   "outputs": [],
   "source": [
    "# df_to_save.to_csv(os.path.join(\"..\", \"dataset\", \"output\", FILE_NAME))\n",
    "conn = sqlite3.connect(f\"{DATASET_LOC}/../database/farmers_market.db\")\n",
    "df_to_save.to_sql(\"fm_seasons_times\", conn, if_exists=\"replace\")\n",
    "conn.cursor().execute(\n",
    "    \"\"\"\n",
    "    select count(*) from farmers_market\n",
    "    \"\"\").fetchall()"
   ]
  }
 ],
 "metadata": {
  "kernelspec": {
   "display_name": "Python 3.10.4 ('illi_MS_DS')",
   "language": "python",
   "name": "python3"
  },
  "language_info": {
   "codemirror_mode": {
    "name": "ipython",
    "version": 3
   },
   "file_extension": ".py",
   "mimetype": "text/x-python",
   "name": "python",
   "nbconvert_exporter": "python",
   "pygments_lexer": "ipython3",
   "version": "3.10.4"
  },
  "vscode": {
   "interpreter": {
    "hash": "6a82d6eb3804a92444605d7a5aa99dc8a820299debc222bc81f709e34341d1d1"
   }
  }
 },
 "nbformat": 4,
 "nbformat_minor": 0
}
