{
 "cells": [
  {
   "cell_type": "code",
   "execution_count": 1,
   "metadata": {
    "collapsed": true,
    "pycharm": {
     "name": "#%%\n"
    }
   },
   "outputs": [],
   "source": [
    "%reload_ext sql\n",
    "import os"
   ]
  },
  {
   "cell_type": "code",
   "source": [
    "import sqlite3"
   ],
   "metadata": {
    "collapsed": false,
    "pycharm": {
     "name": "#%%\n"
    }
   },
   "execution_count": 2,
   "outputs": []
  },
  {
   "cell_type": "code",
   "execution_count": 3,
   "outputs": [],
   "source": [
    "survey_db_url = 'sqlite:////Users/reethsharma/git/cca/cs513_project/farmers_market.db'\n",
    "%sql $survey_db_url"
   ],
   "metadata": {
    "collapsed": false,
    "pycharm": {
     "name": "#%%\n"
    }
   }
  },
  {
   "cell_type": "code",
   "execution_count": null,
   "outputs": [],
   "source": [
    "%%sql\n",
    "SELECT * FROM farmers_market limit 10;"
   ],
   "metadata": {
    "collapsed": false,
    "pycharm": {
     "name": "#%%\n"
    }
   }
  },
  {
   "cell_type": "markdown",
   "source": [
    "### Next instructions are used to valdiate schema"
   ],
   "metadata": {
    "collapsed": false,
    "pycharm": {
     "name": "#%% md\n"
    }
   }
  },
  {
   "cell_type": "code",
   "execution_count": 7,
   "outputs": [
    {
     "name": "stdout",
     "output_type": "stream",
     "text": [
      "22/06/29 19:57:20 WARN Utils: Your hostname, Mac-mini.local resolves to a loopback address: 127.0.0.1; using 192.168.1.78 instead (on interface en1)\n",
      "22/06/29 19:57:20 WARN Utils: Set SPARK_LOCAL_IP if you need to bind to another address\n"
     ]
    },
    {
     "name": "stderr",
     "output_type": "stream",
     "text": [
      "Setting default log level to \"WARN\".\n",
      "To adjust logging level use sc.setLogLevel(newLevel). For SparkR, use setLogLevel(newLevel).\n"
     ]
    },
    {
     "name": "stdout",
     "output_type": "stream",
     "text": [
      "22/06/29 19:57:20 WARN NativeCodeLoader: Unable to load native-hadoop library for your platform... using builtin-java classes where applicable\n"
     ]
    }
   ],
   "source": [
    "from pyspark.sql import SparkSession\n",
    "\n",
    "# Create SparkSession\n",
    "spark = SparkSession.builder \\\n",
    "      .master(\"local[1]\") \\\n",
    "      .appName(\"test\") \\\n",
    "      .getOrCreate()"
   ],
   "metadata": {
    "collapsed": false,
    "pycharm": {
     "name": "#%%\n"
    }
   }
  },
  {
   "cell_type": "code",
   "execution_count": 22,
   "outputs": [],
   "source": [
    "df=spark.read.format(\"csv\").option(\"header\",\"true\").load(\"dataset/farmers_market.csv\",inferSchema = True)"
   ],
   "metadata": {
    "collapsed": false,
    "pycharm": {
     "name": "#%%\n"
    }
   }
  },
  {
   "cell_type": "code",
   "execution_count": 20,
   "outputs": [
    {
     "ename": "AnalysisException",
     "evalue": "Temporary view 'test' already exists",
     "output_type": "error",
     "traceback": [
      "\u001B[0;31m---------------------------------------------------------------------------\u001B[0m",
      "\u001B[0;31mAnalysisException\u001B[0m                         Traceback (most recent call last)",
      "Input \u001B[0;32mIn [20]\u001B[0m, in \u001B[0;36m<cell line: 1>\u001B[0;34m()\u001B[0m\n\u001B[0;32m----> 1\u001B[0m \u001B[43mdf\u001B[49m\u001B[38;5;241;43m.\u001B[39;49m\u001B[43mcreateTempView\u001B[49m\u001B[43m(\u001B[49m\u001B[38;5;124;43m\"\u001B[39;49m\u001B[38;5;124;43mtest\u001B[39;49m\u001B[38;5;124;43m\"\u001B[39;49m\u001B[43m)\u001B[49m\n",
      "File \u001B[0;32m/Library/Frameworks/Python.framework/Versions/3.8/lib/python3.8/site-packages/pyspark/sql/dataframe.py:256\u001B[0m, in \u001B[0;36mDataFrame.createTempView\u001B[0;34m(self, name)\u001B[0m\n\u001B[1;32m    232\u001B[0m \u001B[38;5;28;01mdef\u001B[39;00m \u001B[38;5;21mcreateTempView\u001B[39m(\u001B[38;5;28mself\u001B[39m, name: \u001B[38;5;28mstr\u001B[39m) \u001B[38;5;241m-\u001B[39m\u001B[38;5;241m>\u001B[39m \u001B[38;5;28;01mNone\u001B[39;00m:\n\u001B[1;32m    233\u001B[0m     \u001B[38;5;124;03m\"\"\"Creates a local temporary view with this :class:`DataFrame`.\u001B[39;00m\n\u001B[1;32m    234\u001B[0m \n\u001B[1;32m    235\u001B[0m \u001B[38;5;124;03m    The lifetime of this temporary table is tied to the :class:`SparkSession`\u001B[39;00m\n\u001B[0;32m   (...)\u001B[0m\n\u001B[1;32m    254\u001B[0m \n\u001B[1;32m    255\u001B[0m \u001B[38;5;124;03m    \"\"\"\u001B[39;00m\n\u001B[0;32m--> 256\u001B[0m     \u001B[38;5;28;43mself\u001B[39;49m\u001B[38;5;241;43m.\u001B[39;49m\u001B[43m_jdf\u001B[49m\u001B[38;5;241;43m.\u001B[39;49m\u001B[43mcreateTempView\u001B[49m\u001B[43m(\u001B[49m\u001B[43mname\u001B[49m\u001B[43m)\u001B[49m\n",
      "File \u001B[0;32m/Library/Frameworks/Python.framework/Versions/3.8/lib/python3.8/site-packages/py4j/java_gateway.py:1321\u001B[0m, in \u001B[0;36mJavaMember.__call__\u001B[0;34m(self, *args)\u001B[0m\n\u001B[1;32m   1315\u001B[0m command \u001B[38;5;241m=\u001B[39m proto\u001B[38;5;241m.\u001B[39mCALL_COMMAND_NAME \u001B[38;5;241m+\u001B[39m\\\n\u001B[1;32m   1316\u001B[0m     \u001B[38;5;28mself\u001B[39m\u001B[38;5;241m.\u001B[39mcommand_header \u001B[38;5;241m+\u001B[39m\\\n\u001B[1;32m   1317\u001B[0m     args_command \u001B[38;5;241m+\u001B[39m\\\n\u001B[1;32m   1318\u001B[0m     proto\u001B[38;5;241m.\u001B[39mEND_COMMAND_PART\n\u001B[1;32m   1320\u001B[0m answer \u001B[38;5;241m=\u001B[39m \u001B[38;5;28mself\u001B[39m\u001B[38;5;241m.\u001B[39mgateway_client\u001B[38;5;241m.\u001B[39msend_command(command)\n\u001B[0;32m-> 1321\u001B[0m return_value \u001B[38;5;241m=\u001B[39m \u001B[43mget_return_value\u001B[49m\u001B[43m(\u001B[49m\n\u001B[1;32m   1322\u001B[0m \u001B[43m    \u001B[49m\u001B[43manswer\u001B[49m\u001B[43m,\u001B[49m\u001B[43m \u001B[49m\u001B[38;5;28;43mself\u001B[39;49m\u001B[38;5;241;43m.\u001B[39;49m\u001B[43mgateway_client\u001B[49m\u001B[43m,\u001B[49m\u001B[43m \u001B[49m\u001B[38;5;28;43mself\u001B[39;49m\u001B[38;5;241;43m.\u001B[39;49m\u001B[43mtarget_id\u001B[49m\u001B[43m,\u001B[49m\u001B[43m \u001B[49m\u001B[38;5;28;43mself\u001B[39;49m\u001B[38;5;241;43m.\u001B[39;49m\u001B[43mname\u001B[49m\u001B[43m)\u001B[49m\n\u001B[1;32m   1324\u001B[0m \u001B[38;5;28;01mfor\u001B[39;00m temp_arg \u001B[38;5;129;01min\u001B[39;00m temp_args:\n\u001B[1;32m   1325\u001B[0m     temp_arg\u001B[38;5;241m.\u001B[39m_detach()\n",
      "File \u001B[0;32m/Library/Frameworks/Python.framework/Versions/3.8/lib/python3.8/site-packages/pyspark/sql/utils.py:196\u001B[0m, in \u001B[0;36mcapture_sql_exception.<locals>.deco\u001B[0;34m(*a, **kw)\u001B[0m\n\u001B[1;32m    192\u001B[0m converted \u001B[38;5;241m=\u001B[39m convert_exception(e\u001B[38;5;241m.\u001B[39mjava_exception)\n\u001B[1;32m    193\u001B[0m \u001B[38;5;28;01mif\u001B[39;00m \u001B[38;5;129;01mnot\u001B[39;00m \u001B[38;5;28misinstance\u001B[39m(converted, UnknownException):\n\u001B[1;32m    194\u001B[0m     \u001B[38;5;66;03m# Hide where the exception came from that shows a non-Pythonic\u001B[39;00m\n\u001B[1;32m    195\u001B[0m     \u001B[38;5;66;03m# JVM exception message.\u001B[39;00m\n\u001B[0;32m--> 196\u001B[0m     \u001B[38;5;28;01mraise\u001B[39;00m converted \u001B[38;5;28;01mfrom\u001B[39;00m \u001B[38;5;28mNone\u001B[39m\n\u001B[1;32m    197\u001B[0m \u001B[38;5;28;01melse\u001B[39;00m:\n\u001B[1;32m    198\u001B[0m     \u001B[38;5;28;01mraise\u001B[39;00m\n",
      "\u001B[0;31mAnalysisException\u001B[0m: Temporary view 'test' already exists"
     ]
    }
   ],
   "source": [
    "df.createTempView(\"test\")"
   ],
   "metadata": {
    "collapsed": false,
    "pycharm": {
     "name": "#%%\n"
    }
   }
  },
  {
   "cell_type": "code",
   "execution_count": 11,
   "outputs": [
    {
     "name": "stdout",
     "output_type": "stream",
     "text": [
      "+--------+\n",
      "|count(1)|\n",
      "+--------+\n",
      "|    8665|\n",
      "+--------+\n",
      "\n"
     ]
    }
   ],
   "source": [
    "spark.sql(\"select count(*) from test\").show()"
   ],
   "metadata": {
    "collapsed": false,
    "pycharm": {
     "name": "#%%\n"
    }
   }
  },
  {
   "cell_type": "code",
   "execution_count": 13,
   "outputs": [
    {
     "data": {
      "text/plain": "Row(FMID='1012063', MarketName=' Caledonia Farmers Market Association - Danville', Website='https://sites.google.com/site/caledoniafarmersmarket/', Facebook='https://www.facebook.com/Danville.VT.Farmers.Market/', Twitter=None, Youtube=None, OtherMedia=None, street=None, city='Danville ', County='Caledonia', State='Vermont', zip='05828', Season1Date='06/08/2016 to 10/12/2016', Season1Time='Wed: 9:00 AM-1:00 PM;', Season2Date=None, Season2Time=None, Season3Date=None, Season3Time=None, Season4Date=None, Season4Time=None, x='-72.140305', y='44.411013', Location=None, Credit='Y', WIC='Y', WICcash='N', SFMNP='Y', SNAP='N', Organic='Y', Bakedgoods='Y', Cheese='Y', Crafts='Y', Flowers='Y', Eggs='Y', Seafood='N', Herbs='Y', Vegetables='Y', Honey='Y', Jams='Y', Maple='Y', Meat='Y', Nursery='N', Nuts='N', Plants='Y', Poultry='Y', Prepared='Y', Soap='Y', Trees='Y', Wine='N', Coffee='Y', Beans='Y', Fruits='Y', Grains='N', Juices='Y', Mushrooms='N', PetFood='Y', Tofu='N', WildHarvested='N', updateTime='6/28/2016 12:10:09 PM')"
     },
     "execution_count": 13,
     "metadata": {},
     "output_type": "execute_result"
    }
   ],
   "source": [
    "spark.sql(\"select * from test\").head()"
   ],
   "metadata": {
    "collapsed": false,
    "pycharm": {
     "name": "#%%\n"
    }
   }
  },
  {
   "cell_type": "code",
   "execution_count": 23,
   "outputs": [
    {
     "name": "stdout",
     "output_type": "stream",
     "text": [
      "root\n",
      " |-- FMID: integer (nullable = true)\n",
      " |-- MarketName: string (nullable = true)\n",
      " |-- Website: string (nullable = true)\n",
      " |-- Facebook: string (nullable = true)\n",
      " |-- Twitter: string (nullable = true)\n",
      " |-- Youtube: string (nullable = true)\n",
      " |-- OtherMedia: string (nullable = true)\n",
      " |-- street: string (nullable = true)\n",
      " |-- city: string (nullable = true)\n",
      " |-- County: string (nullable = true)\n",
      " |-- State: string (nullable = true)\n",
      " |-- zip: string (nullable = true)\n",
      " |-- Season1Date: string (nullable = true)\n",
      " |-- Season1Time: string (nullable = true)\n",
      " |-- Season2Date: string (nullable = true)\n",
      " |-- Season2Time: string (nullable = true)\n",
      " |-- Season3Date: string (nullable = true)\n",
      " |-- Season3Time: string (nullable = true)\n",
      " |-- Season4Date: string (nullable = true)\n",
      " |-- Season4Time: string (nullable = true)\n",
      " |-- x: double (nullable = true)\n",
      " |-- y: double (nullable = true)\n",
      " |-- Location: string (nullable = true)\n",
      " |-- Credit: integer (nullable = true)\n",
      " |-- WIC: integer (nullable = true)\n",
      " |-- WICcash: integer (nullable = true)\n",
      " |-- SFMNP: integer (nullable = true)\n",
      " |-- SNAP: integer (nullable = true)\n",
      " |-- Organic: integer (nullable = true)\n",
      " |-- Bakedgoods: integer (nullable = true)\n",
      " |-- Cheese: integer (nullable = true)\n",
      " |-- Crafts: integer (nullable = true)\n",
      " |-- Flowers: integer (nullable = true)\n",
      " |-- Eggs: integer (nullable = true)\n",
      " |-- Seafood: integer (nullable = true)\n",
      " |-- Herbs: integer (nullable = true)\n",
      " |-- Vegetables: integer (nullable = true)\n",
      " |-- Honey: integer (nullable = true)\n",
      " |-- Jams: integer (nullable = true)\n",
      " |-- Maple: integer (nullable = true)\n",
      " |-- Meat: integer (nullable = true)\n",
      " |-- Nursery: integer (nullable = true)\n",
      " |-- Nuts: integer (nullable = true)\n",
      " |-- Plants: integer (nullable = true)\n",
      " |-- Poultry: integer (nullable = true)\n",
      " |-- Prepared: integer (nullable = true)\n",
      " |-- Soap: integer (nullable = true)\n",
      " |-- Trees: integer (nullable = true)\n",
      " |-- Wine: integer (nullable = true)\n",
      " |-- Coffee: integer (nullable = true)\n",
      " |-- Beans: integer (nullable = true)\n",
      " |-- Fruits: integer (nullable = true)\n",
      " |-- Grains: integer (nullable = true)\n",
      " |-- Juices: integer (nullable = true)\n",
      " |-- Mushrooms: integer (nullable = true)\n",
      " |-- PetFood: integer (nullable = true)\n",
      " |-- Tofu: integer (nullable = true)\n",
      " |-- WildHarvested: integer (nullable = true)\n",
      " |-- updateTime: string (nullable = true)\n",
      "\n"
     ]
    }
   ],
   "source": [
    "df.printSchema()"
   ],
   "metadata": {
    "collapsed": false,
    "pycharm": {
     "name": "#%%\n"
    }
   }
  },
  {
   "cell_type": "code",
   "execution_count": 1,
   "outputs": [],
   "source": [
    "import pandas as pd"
   ],
   "metadata": {
    "collapsed": false,
    "pycharm": {
     "name": "#%%\n"
    }
   }
  },
  {
   "cell_type": "code",
   "execution_count": 265,
   "outputs": [
    {
     "data": {
      "text/plain": "FMID               int64\nMarketName        object\nWebsite           object\nFacebook          object\nTwitter           object\nYoutube           object\nOtherMedia        object\nstreet            object\ncity              object\nCounty            object\nState             object\nzip               object\nSeason1Date       object\nSeason1Time       object\nSeason2Date       object\nSeason2Time       object\nSeason3Date       object\nSeason3Time       object\nSeason4Date       object\nSeason4Time       object\nx                float64\ny                float64\nLocation          object\nCredit            object\nWIC               object\nWICcash           object\nSFMNP             object\nSNAP              object\nOrganic           object\nBakedgoods        object\nCheese            object\nCrafts            object\nFlowers           object\nEggs              object\nSeafood           object\nHerbs             object\nVegetables        object\nHoney             object\nJams              object\nMaple             object\nMeat              object\nNursery           object\nNuts              object\nPlants            object\nPoultry           object\nPrepared          object\nSoap              object\nTrees             object\nWine              object\nCoffee            object\nBeans             object\nFruits            object\nGrains            object\nJuices            object\nMushrooms         object\nPetFood           object\nTofu              object\nWildHarvested     object\nupdateTime        object\ndtype: object"
     },
     "execution_count": 265,
     "metadata": {},
     "output_type": "execute_result"
    }
   ],
   "source": [
    "df = pd.read_csv('~/Downloads/farmersmarkets-2017-01-10.csv')\n",
    "df.dtypes"
   ],
   "metadata": {
    "collapsed": false,
    "pycharm": {
     "name": "#%%\n"
    }
   }
  },
  {
   "cell_type": "markdown",
   "source": [
    "## Data Analysis and cleaning using Pandas"
   ],
   "metadata": {
    "collapsed": false,
    "pycharm": {
     "name": "#%% md\n"
    }
   }
  },
  {
   "cell_type": "code",
   "source": [
    "df.isna().sum()"
   ],
   "metadata": {
    "collapsed": false,
    "pycharm": {
     "name": "#%%\n"
    }
   },
   "execution_count": 266,
   "outputs": [
    {
     "data": {
      "text/plain": "FMID                0\nMarketName          0\nWebsite          3458\nFacebook         4869\nTwitter          7668\nYoutube          8504\nOtherMedia       8027\nstreet            285\ncity               40\nCounty            538\nState               0\nzip               944\nSeason1Date      3279\nSeason1Time      3140\nSeason2Date      8236\nSeason2Time      8251\nSeason3Date      8586\nSeason3Time      8590\nSeason4Date      8658\nSeason4Time      8658\nx                  29\ny                  29\nLocation         5729\nCredit              0\nWIC                 0\nWICcash             0\nSFMNP               0\nSNAP                0\nOrganic             0\nBakedgoods       3023\nCheese           3023\nCrafts           3023\nFlowers          3023\nEggs             3023\nSeafood          3023\nHerbs            3023\nVegetables       3023\nHoney            3023\nJams             3023\nMaple            3023\nMeat             3023\nNursery          3023\nNuts             3023\nPlants           3023\nPoultry          3023\nPrepared         3023\nSoap             3023\nTrees            3023\nWine             3023\nCoffee           3023\nBeans            3023\nFruits           3023\nGrains           3023\nJuices           3023\nMushrooms        3023\nPetFood          3023\nTofu             3023\nWildHarvested    3023\nupdateTime          0\ndtype: int64"
     },
     "execution_count": 266,
     "metadata": {},
     "output_type": "execute_result"
    }
   ]
  },
  {
   "cell_type": "code",
   "execution_count": 267,
   "outputs": [
    {
     "data": {
      "text/plain": "FMID                      int64\nMarketName               object\nWebsite                  object\nFacebook                 object\nTwitter                  object\nYoutube                  object\nOtherMedia               object\nstreet                   object\ncity                     object\nCounty                   object\nState                    object\nzip                      object\nSeason1Date              object\nSeason1Time              object\nSeason2Date              object\nSeason2Time              object\nSeason3Date              object\nSeason3Time              object\nSeason4Date              object\nSeason4Time              object\nx                       float64\ny                       float64\nLocation                 object\nCredit                   object\nWIC                      object\nWICcash                  object\nSFMNP                    object\nSNAP                     object\nOrganic                  object\nBakedgoods               object\nCheese                   object\nCrafts                   object\nFlowers                  object\nEggs                     object\nSeafood                  object\nHerbs                    object\nVegetables               object\nHoney                    object\nJams                     object\nMaple                    object\nMeat                     object\nNursery                  object\nNuts                     object\nPlants                   object\nPoultry                  object\nPrepared                 object\nSoap                     object\nTrees                    object\nWine                     object\nCoffee                   object\nBeans                    object\nFruits                   object\nGrains                   object\nJuices                   object\nMushrooms                object\nPetFood                  object\nTofu                     object\nWildHarvested            object\nupdateTime       datetime64[ns]\ndtype: object"
     },
     "execution_count": 267,
     "metadata": {},
     "output_type": "execute_result"
    }
   ],
   "source": [
    "\"\"\" Date cleanup\n",
    "1990\n",
    "1990/01/01\n",
    "1990/mar/01\n",
    "Emoty to NaN\n",
    "\"\"\"\n",
    "df = df.apply(lambda col: pd.to_datetime(col, errors='ignore')\n",
    "              if col.dtypes == object\n",
    "              else col,\n",
    "              axis=0)\n",
    "\n",
    "df.dtypes"
   ],
   "metadata": {
    "collapsed": false,
    "pycharm": {
     "name": "#%%\n"
    }
   }
  },
  {
   "cell_type": "code",
   "execution_count": 237,
   "outputs": [
    {
     "data": {
      "text/plain": "      FMID                              MarketName  \\\n0  1000001            Shelby Food and Craft Market   \n1  1000003                   Edmore Farmers Market   \n2  1000006         Westwood Village Farmers Market   \n3  1000007  Santa Barbara La Cumbre Farmers Market   \n4  1000008                 Montrose Farmers Market   \n\n                                Website  \\\n0                                   NaN   \n1                 http://www.Edmore.org   \n2         http://www.westwoodonline.com   \n3        http://www.sbfarmersmarket.org   \n4  http://www.montrosefarmersmarket.com   \n\n                                         Facebook  \\\n0                                             NaN   \n1    https://www.facebook.com/EdmoreFarmersMarket   \n2                                             NaN   \n3                                             NaN   \n4  https://www.facebook.com/MontroseFarmersMarket   \n\n                            Twitter Youtube OtherMedia  \\\n0                               NaN     NaN        NaN   \n1  https://Twitter.com/edmoremarket     NaN        NaN   \n2                               NaN     NaN        NaN   \n3                               NaN     NaN        NaN   \n4                               NaN     NaN        NaN   \n\n                                   street           city         County  ...  \\\n0                          City Hall park         Shelby          Toole  ...   \n1  Corner of Lewis Street and Pine Street         Edmore       Montcalm  ...   \n2           Weyburn Ave. & Westwood Blvd.    Los Angeles    Los Angeles  ...   \n3                   110 South Hope Avenue  Santa Barbara  Santa Barbara  ...   \n4           Main St. and Uncompahgre Ave.       Montrose       Montrose  ...   \n\n  Coffee Beans Fruits Grains Juices Mushrooms PetFood Tofu WildHarvested  \\\n0    NaN   NaN    NaN    NaN    NaN       NaN     NaN  NaN           NaN   \n1    0.0   0.0    1.0    0.0    0.0       0.0     0.0  0.0           0.0   \n2    NaN   NaN    NaN    NaN    NaN       NaN     NaN  NaN           NaN   \n3    NaN   NaN    NaN    NaN    NaN       NaN     NaN  NaN           NaN   \n4    1.0   1.0    1.0    0.0    0.0       1.0     1.0  0.0           0.0   \n\n           updateTime  \n0 2009-01-01 00:00:00  \n1 2014-03-14 11:06:18  \n2 2009-01-01 00:00:00  \n3 2009-01-01 00:00:00  \n4 2016-06-27 13:22:54  \n\n[5 rows x 58 columns]",
      "text/html": "<div>\n<style scoped>\n    .dataframe tbody tr th:only-of-type {\n        vertical-align: middle;\n    }\n\n    .dataframe tbody tr th {\n        vertical-align: top;\n    }\n\n    .dataframe thead th {\n        text-align: right;\n    }\n</style>\n<table border=\"1\" class=\"dataframe\">\n  <thead>\n    <tr style=\"text-align: right;\">\n      <th></th>\n      <th>FMID</th>\n      <th>MarketName</th>\n      <th>Website</th>\n      <th>Facebook</th>\n      <th>Twitter</th>\n      <th>Youtube</th>\n      <th>OtherMedia</th>\n      <th>street</th>\n      <th>city</th>\n      <th>County</th>\n      <th>...</th>\n      <th>Coffee</th>\n      <th>Beans</th>\n      <th>Fruits</th>\n      <th>Grains</th>\n      <th>Juices</th>\n      <th>Mushrooms</th>\n      <th>PetFood</th>\n      <th>Tofu</th>\n      <th>WildHarvested</th>\n      <th>updateTime</th>\n    </tr>\n  </thead>\n  <tbody>\n    <tr>\n      <th>0</th>\n      <td>1000001</td>\n      <td>Shelby Food and Craft Market</td>\n      <td>NaN</td>\n      <td>NaN</td>\n      <td>NaN</td>\n      <td>NaN</td>\n      <td>NaN</td>\n      <td>City Hall park</td>\n      <td>Shelby</td>\n      <td>Toole</td>\n      <td>...</td>\n      <td>NaN</td>\n      <td>NaN</td>\n      <td>NaN</td>\n      <td>NaN</td>\n      <td>NaN</td>\n      <td>NaN</td>\n      <td>NaN</td>\n      <td>NaN</td>\n      <td>NaN</td>\n      <td>2009-01-01 00:00:00</td>\n    </tr>\n    <tr>\n      <th>1</th>\n      <td>1000003</td>\n      <td>Edmore Farmers Market</td>\n      <td>http://www.Edmore.org</td>\n      <td>https://www.facebook.com/EdmoreFarmersMarket</td>\n      <td>https://Twitter.com/edmoremarket</td>\n      <td>NaN</td>\n      <td>NaN</td>\n      <td>Corner of Lewis Street and Pine Street</td>\n      <td>Edmore</td>\n      <td>Montcalm</td>\n      <td>...</td>\n      <td>0.0</td>\n      <td>0.0</td>\n      <td>1.0</td>\n      <td>0.0</td>\n      <td>0.0</td>\n      <td>0.0</td>\n      <td>0.0</td>\n      <td>0.0</td>\n      <td>0.0</td>\n      <td>2014-03-14 11:06:18</td>\n    </tr>\n    <tr>\n      <th>2</th>\n      <td>1000006</td>\n      <td>Westwood Village Farmers Market</td>\n      <td>http://www.westwoodonline.com</td>\n      <td>NaN</td>\n      <td>NaN</td>\n      <td>NaN</td>\n      <td>NaN</td>\n      <td>Weyburn Ave. &amp; Westwood Blvd.</td>\n      <td>Los Angeles</td>\n      <td>Los Angeles</td>\n      <td>...</td>\n      <td>NaN</td>\n      <td>NaN</td>\n      <td>NaN</td>\n      <td>NaN</td>\n      <td>NaN</td>\n      <td>NaN</td>\n      <td>NaN</td>\n      <td>NaN</td>\n      <td>NaN</td>\n      <td>2009-01-01 00:00:00</td>\n    </tr>\n    <tr>\n      <th>3</th>\n      <td>1000007</td>\n      <td>Santa Barbara La Cumbre Farmers Market</td>\n      <td>http://www.sbfarmersmarket.org</td>\n      <td>NaN</td>\n      <td>NaN</td>\n      <td>NaN</td>\n      <td>NaN</td>\n      <td>110 South Hope Avenue</td>\n      <td>Santa Barbara</td>\n      <td>Santa Barbara</td>\n      <td>...</td>\n      <td>NaN</td>\n      <td>NaN</td>\n      <td>NaN</td>\n      <td>NaN</td>\n      <td>NaN</td>\n      <td>NaN</td>\n      <td>NaN</td>\n      <td>NaN</td>\n      <td>NaN</td>\n      <td>2009-01-01 00:00:00</td>\n    </tr>\n    <tr>\n      <th>4</th>\n      <td>1000008</td>\n      <td>Montrose Farmers Market</td>\n      <td>http://www.montrosefarmersmarket.com</td>\n      <td>https://www.facebook.com/MontroseFarmersMarket</td>\n      <td>NaN</td>\n      <td>NaN</td>\n      <td>NaN</td>\n      <td>Main St. and Uncompahgre Ave.</td>\n      <td>Montrose</td>\n      <td>Montrose</td>\n      <td>...</td>\n      <td>1.0</td>\n      <td>1.0</td>\n      <td>1.0</td>\n      <td>0.0</td>\n      <td>0.0</td>\n      <td>1.0</td>\n      <td>1.0</td>\n      <td>0.0</td>\n      <td>0.0</td>\n      <td>2016-06-27 13:22:54</td>\n    </tr>\n  </tbody>\n</table>\n<p>5 rows × 58 columns</p>\n</div>"
     },
     "execution_count": 237,
     "metadata": {},
     "output_type": "execute_result"
    }
   ],
   "source": [
    "df.head()"
   ],
   "metadata": {
    "collapsed": false,
    "pycharm": {
     "name": "#%%\n"
    }
   }
  },
  {
   "cell_type": "code",
   "execution_count": 268,
   "outputs": [
    {
     "ename": "TypeError",
     "evalue": "Need to pass bool-like values",
     "output_type": "error",
     "traceback": [
      "\u001B[0;31m---------------------------------------------------------------------------\u001B[0m",
      "\u001B[0;31mTypeError\u001B[0m                                 Traceback (most recent call last)",
      "Input \u001B[0;32mIn [268]\u001B[0m, in \u001B[0;36m<cell line: 2>\u001B[0;34m()\u001B[0m\n\u001B[1;32m      1\u001B[0m \u001B[38;5;66;03m#Change column datatypes to boolean\u001B[39;00m\n\u001B[0;32m----> 2\u001B[0m df[df\u001B[38;5;241m.\u001B[39mcolumns[\u001B[38;5;241m23\u001B[39m:\u001B[38;5;241m-\u001B[39m\u001B[38;5;241m1\u001B[39m]]\u001B[38;5;241m=\u001B[39m\u001B[43mdf\u001B[49m\u001B[43m[\u001B[49m\u001B[43mdf\u001B[49m\u001B[38;5;241;43m.\u001B[39;49m\u001B[43mcolumns\u001B[49m\u001B[43m[\u001B[49m\u001B[38;5;241;43m23\u001B[39;49m\u001B[43m:\u001B[49m\u001B[38;5;241;43m-\u001B[39;49m\u001B[38;5;241;43m1\u001B[39;49m\u001B[43m]\u001B[49m\u001B[43m]\u001B[49m\u001B[38;5;241;43m.\u001B[39;49m\u001B[43mastype\u001B[49m\u001B[43m(\u001B[49m\u001B[38;5;124;43m\"\u001B[39;49m\u001B[38;5;124;43mboolean\u001B[39;49m\u001B[38;5;124;43m\"\u001B[39;49m\u001B[43m)\u001B[49m\n",
      "File \u001B[0;32m/Volumes/reeth/git/cca/cs513_project/venv/lib/python3.9/site-packages/pandas/core/generic.py:5905\u001B[0m, in \u001B[0;36mNDFrame.astype\u001B[0;34m(self, dtype, copy, errors)\u001B[0m\n\u001B[1;32m   5899\u001B[0m         results\u001B[38;5;241m.\u001B[39mappend(res_col)\n\u001B[1;32m   5901\u001B[0m \u001B[38;5;28;01melif\u001B[39;00m is_extension_array_dtype(dtype) \u001B[38;5;129;01mand\u001B[39;00m \u001B[38;5;28mself\u001B[39m\u001B[38;5;241m.\u001B[39mndim \u001B[38;5;241m>\u001B[39m \u001B[38;5;241m1\u001B[39m:\n\u001B[1;32m   5902\u001B[0m     \u001B[38;5;66;03m# GH 18099/22869: columnwise conversion to extension dtype\u001B[39;00m\n\u001B[1;32m   5903\u001B[0m     \u001B[38;5;66;03m# GH 24704: use iloc to handle duplicate column names\u001B[39;00m\n\u001B[1;32m   5904\u001B[0m     \u001B[38;5;66;03m# TODO(EA2D): special case not needed with 2D EAs\u001B[39;00m\n\u001B[0;32m-> 5905\u001B[0m     results \u001B[38;5;241m=\u001B[39m [\n\u001B[1;32m   5906\u001B[0m         \u001B[38;5;28mself\u001B[39m\u001B[38;5;241m.\u001B[39miloc[:, i]\u001B[38;5;241m.\u001B[39mastype(dtype, copy\u001B[38;5;241m=\u001B[39mcopy)\n\u001B[1;32m   5907\u001B[0m         \u001B[38;5;28;01mfor\u001B[39;00m i \u001B[38;5;129;01min\u001B[39;00m \u001B[38;5;28mrange\u001B[39m(\u001B[38;5;28mlen\u001B[39m(\u001B[38;5;28mself\u001B[39m\u001B[38;5;241m.\u001B[39mcolumns))\n\u001B[1;32m   5908\u001B[0m     ]\n\u001B[1;32m   5910\u001B[0m \u001B[38;5;28;01melse\u001B[39;00m:\n\u001B[1;32m   5911\u001B[0m     \u001B[38;5;66;03m# else, only a single dtype is given\u001B[39;00m\n\u001B[1;32m   5912\u001B[0m     new_data \u001B[38;5;241m=\u001B[39m \u001B[38;5;28mself\u001B[39m\u001B[38;5;241m.\u001B[39m_mgr\u001B[38;5;241m.\u001B[39mastype(dtype\u001B[38;5;241m=\u001B[39mdtype, copy\u001B[38;5;241m=\u001B[39mcopy, errors\u001B[38;5;241m=\u001B[39merrors)\n",
      "File \u001B[0;32m/Volumes/reeth/git/cca/cs513_project/venv/lib/python3.9/site-packages/pandas/core/generic.py:5906\u001B[0m, in \u001B[0;36m<listcomp>\u001B[0;34m(.0)\u001B[0m\n\u001B[1;32m   5899\u001B[0m         results\u001B[38;5;241m.\u001B[39mappend(res_col)\n\u001B[1;32m   5901\u001B[0m \u001B[38;5;28;01melif\u001B[39;00m is_extension_array_dtype(dtype) \u001B[38;5;129;01mand\u001B[39;00m \u001B[38;5;28mself\u001B[39m\u001B[38;5;241m.\u001B[39mndim \u001B[38;5;241m>\u001B[39m \u001B[38;5;241m1\u001B[39m:\n\u001B[1;32m   5902\u001B[0m     \u001B[38;5;66;03m# GH 18099/22869: columnwise conversion to extension dtype\u001B[39;00m\n\u001B[1;32m   5903\u001B[0m     \u001B[38;5;66;03m# GH 24704: use iloc to handle duplicate column names\u001B[39;00m\n\u001B[1;32m   5904\u001B[0m     \u001B[38;5;66;03m# TODO(EA2D): special case not needed with 2D EAs\u001B[39;00m\n\u001B[1;32m   5905\u001B[0m     results \u001B[38;5;241m=\u001B[39m [\n\u001B[0;32m-> 5906\u001B[0m         \u001B[38;5;28;43mself\u001B[39;49m\u001B[38;5;241;43m.\u001B[39;49m\u001B[43miloc\u001B[49m\u001B[43m[\u001B[49m\u001B[43m:\u001B[49m\u001B[43m,\u001B[49m\u001B[43m \u001B[49m\u001B[43mi\u001B[49m\u001B[43m]\u001B[49m\u001B[38;5;241;43m.\u001B[39;49m\u001B[43mastype\u001B[49m\u001B[43m(\u001B[49m\u001B[43mdtype\u001B[49m\u001B[43m,\u001B[49m\u001B[43m \u001B[49m\u001B[43mcopy\u001B[49m\u001B[38;5;241;43m=\u001B[39;49m\u001B[43mcopy\u001B[49m\u001B[43m)\u001B[49m\n\u001B[1;32m   5907\u001B[0m         \u001B[38;5;28;01mfor\u001B[39;00m i \u001B[38;5;129;01min\u001B[39;00m \u001B[38;5;28mrange\u001B[39m(\u001B[38;5;28mlen\u001B[39m(\u001B[38;5;28mself\u001B[39m\u001B[38;5;241m.\u001B[39mcolumns))\n\u001B[1;32m   5908\u001B[0m     ]\n\u001B[1;32m   5910\u001B[0m \u001B[38;5;28;01melse\u001B[39;00m:\n\u001B[1;32m   5911\u001B[0m     \u001B[38;5;66;03m# else, only a single dtype is given\u001B[39;00m\n\u001B[1;32m   5912\u001B[0m     new_data \u001B[38;5;241m=\u001B[39m \u001B[38;5;28mself\u001B[39m\u001B[38;5;241m.\u001B[39m_mgr\u001B[38;5;241m.\u001B[39mastype(dtype\u001B[38;5;241m=\u001B[39mdtype, copy\u001B[38;5;241m=\u001B[39mcopy, errors\u001B[38;5;241m=\u001B[39merrors)\n",
      "File \u001B[0;32m/Volumes/reeth/git/cca/cs513_project/venv/lib/python3.9/site-packages/pandas/core/generic.py:5912\u001B[0m, in \u001B[0;36mNDFrame.astype\u001B[0;34m(self, dtype, copy, errors)\u001B[0m\n\u001B[1;32m   5905\u001B[0m     results \u001B[38;5;241m=\u001B[39m [\n\u001B[1;32m   5906\u001B[0m         \u001B[38;5;28mself\u001B[39m\u001B[38;5;241m.\u001B[39miloc[:, i]\u001B[38;5;241m.\u001B[39mastype(dtype, copy\u001B[38;5;241m=\u001B[39mcopy)\n\u001B[1;32m   5907\u001B[0m         \u001B[38;5;28;01mfor\u001B[39;00m i \u001B[38;5;129;01min\u001B[39;00m \u001B[38;5;28mrange\u001B[39m(\u001B[38;5;28mlen\u001B[39m(\u001B[38;5;28mself\u001B[39m\u001B[38;5;241m.\u001B[39mcolumns))\n\u001B[1;32m   5908\u001B[0m     ]\n\u001B[1;32m   5910\u001B[0m \u001B[38;5;28;01melse\u001B[39;00m:\n\u001B[1;32m   5911\u001B[0m     \u001B[38;5;66;03m# else, only a single dtype is given\u001B[39;00m\n\u001B[0;32m-> 5912\u001B[0m     new_data \u001B[38;5;241m=\u001B[39m \u001B[38;5;28;43mself\u001B[39;49m\u001B[38;5;241;43m.\u001B[39;49m\u001B[43m_mgr\u001B[49m\u001B[38;5;241;43m.\u001B[39;49m\u001B[43mastype\u001B[49m\u001B[43m(\u001B[49m\u001B[43mdtype\u001B[49m\u001B[38;5;241;43m=\u001B[39;49m\u001B[43mdtype\u001B[49m\u001B[43m,\u001B[49m\u001B[43m \u001B[49m\u001B[43mcopy\u001B[49m\u001B[38;5;241;43m=\u001B[39;49m\u001B[43mcopy\u001B[49m\u001B[43m,\u001B[49m\u001B[43m \u001B[49m\u001B[43merrors\u001B[49m\u001B[38;5;241;43m=\u001B[39;49m\u001B[43merrors\u001B[49m\u001B[43m)\u001B[49m\n\u001B[1;32m   5913\u001B[0m     \u001B[38;5;28;01mreturn\u001B[39;00m \u001B[38;5;28mself\u001B[39m\u001B[38;5;241m.\u001B[39m_constructor(new_data)\u001B[38;5;241m.\u001B[39m__finalize__(\u001B[38;5;28mself\u001B[39m, method\u001B[38;5;241m=\u001B[39m\u001B[38;5;124m\"\u001B[39m\u001B[38;5;124mastype\u001B[39m\u001B[38;5;124m\"\u001B[39m)\n\u001B[1;32m   5915\u001B[0m \u001B[38;5;66;03m# GH 33113: handle empty frame or series\u001B[39;00m\n",
      "File \u001B[0;32m/Volumes/reeth/git/cca/cs513_project/venv/lib/python3.9/site-packages/pandas/core/internals/managers.py:419\u001B[0m, in \u001B[0;36mBaseBlockManager.astype\u001B[0;34m(self, dtype, copy, errors)\u001B[0m\n\u001B[1;32m    418\u001B[0m \u001B[38;5;28;01mdef\u001B[39;00m \u001B[38;5;21mastype\u001B[39m(\u001B[38;5;28mself\u001B[39m: T, dtype, copy: \u001B[38;5;28mbool\u001B[39m \u001B[38;5;241m=\u001B[39m \u001B[38;5;28;01mFalse\u001B[39;00m, errors: \u001B[38;5;28mstr\u001B[39m \u001B[38;5;241m=\u001B[39m \u001B[38;5;124m\"\u001B[39m\u001B[38;5;124mraise\u001B[39m\u001B[38;5;124m\"\u001B[39m) \u001B[38;5;241m-\u001B[39m\u001B[38;5;241m>\u001B[39m T:\n\u001B[0;32m--> 419\u001B[0m     \u001B[38;5;28;01mreturn\u001B[39;00m \u001B[38;5;28;43mself\u001B[39;49m\u001B[38;5;241;43m.\u001B[39;49m\u001B[43mapply\u001B[49m\u001B[43m(\u001B[49m\u001B[38;5;124;43m\"\u001B[39;49m\u001B[38;5;124;43mastype\u001B[39;49m\u001B[38;5;124;43m\"\u001B[39;49m\u001B[43m,\u001B[49m\u001B[43m \u001B[49m\u001B[43mdtype\u001B[49m\u001B[38;5;241;43m=\u001B[39;49m\u001B[43mdtype\u001B[49m\u001B[43m,\u001B[49m\u001B[43m \u001B[49m\u001B[43mcopy\u001B[49m\u001B[38;5;241;43m=\u001B[39;49m\u001B[43mcopy\u001B[49m\u001B[43m,\u001B[49m\u001B[43m \u001B[49m\u001B[43merrors\u001B[49m\u001B[38;5;241;43m=\u001B[39;49m\u001B[43merrors\u001B[49m\u001B[43m)\u001B[49m\n",
      "File \u001B[0;32m/Volumes/reeth/git/cca/cs513_project/venv/lib/python3.9/site-packages/pandas/core/internals/managers.py:304\u001B[0m, in \u001B[0;36mBaseBlockManager.apply\u001B[0;34m(self, f, align_keys, ignore_failures, **kwargs)\u001B[0m\n\u001B[1;32m    302\u001B[0m         applied \u001B[38;5;241m=\u001B[39m b\u001B[38;5;241m.\u001B[39mapply(f, \u001B[38;5;241m*\u001B[39m\u001B[38;5;241m*\u001B[39mkwargs)\n\u001B[1;32m    303\u001B[0m     \u001B[38;5;28;01melse\u001B[39;00m:\n\u001B[0;32m--> 304\u001B[0m         applied \u001B[38;5;241m=\u001B[39m \u001B[38;5;28;43mgetattr\u001B[39;49m\u001B[43m(\u001B[49m\u001B[43mb\u001B[49m\u001B[43m,\u001B[49m\u001B[43m \u001B[49m\u001B[43mf\u001B[49m\u001B[43m)\u001B[49m\u001B[43m(\u001B[49m\u001B[38;5;241;43m*\u001B[39;49m\u001B[38;5;241;43m*\u001B[39;49m\u001B[43mkwargs\u001B[49m\u001B[43m)\u001B[49m\n\u001B[1;32m    305\u001B[0m \u001B[38;5;28;01mexcept\u001B[39;00m (\u001B[38;5;167;01mTypeError\u001B[39;00m, \u001B[38;5;167;01mNotImplementedError\u001B[39;00m):\n\u001B[1;32m    306\u001B[0m     \u001B[38;5;28;01mif\u001B[39;00m \u001B[38;5;129;01mnot\u001B[39;00m ignore_failures:\n",
      "File \u001B[0;32m/Volumes/reeth/git/cca/cs513_project/venv/lib/python3.9/site-packages/pandas/core/internals/blocks.py:580\u001B[0m, in \u001B[0;36mBlock.astype\u001B[0;34m(self, dtype, copy, errors)\u001B[0m\n\u001B[1;32m    562\u001B[0m \u001B[38;5;124;03m\"\"\"\u001B[39;00m\n\u001B[1;32m    563\u001B[0m \u001B[38;5;124;03mCoerce to the new dtype.\u001B[39;00m\n\u001B[1;32m    564\u001B[0m \n\u001B[0;32m   (...)\u001B[0m\n\u001B[1;32m    576\u001B[0m \u001B[38;5;124;03mBlock\u001B[39;00m\n\u001B[1;32m    577\u001B[0m \u001B[38;5;124;03m\"\"\"\u001B[39;00m\n\u001B[1;32m    578\u001B[0m values \u001B[38;5;241m=\u001B[39m \u001B[38;5;28mself\u001B[39m\u001B[38;5;241m.\u001B[39mvalues\n\u001B[0;32m--> 580\u001B[0m new_values \u001B[38;5;241m=\u001B[39m \u001B[43mastype_array_safe\u001B[49m\u001B[43m(\u001B[49m\u001B[43mvalues\u001B[49m\u001B[43m,\u001B[49m\u001B[43m \u001B[49m\u001B[43mdtype\u001B[49m\u001B[43m,\u001B[49m\u001B[43m \u001B[49m\u001B[43mcopy\u001B[49m\u001B[38;5;241;43m=\u001B[39;49m\u001B[43mcopy\u001B[49m\u001B[43m,\u001B[49m\u001B[43m \u001B[49m\u001B[43merrors\u001B[49m\u001B[38;5;241;43m=\u001B[39;49m\u001B[43merrors\u001B[49m\u001B[43m)\u001B[49m\n\u001B[1;32m    582\u001B[0m new_values \u001B[38;5;241m=\u001B[39m maybe_coerce_values(new_values)\n\u001B[1;32m    583\u001B[0m newb \u001B[38;5;241m=\u001B[39m \u001B[38;5;28mself\u001B[39m\u001B[38;5;241m.\u001B[39mmake_block(new_values)\n",
      "File \u001B[0;32m/Volumes/reeth/git/cca/cs513_project/venv/lib/python3.9/site-packages/pandas/core/dtypes/cast.py:1292\u001B[0m, in \u001B[0;36mastype_array_safe\u001B[0;34m(values, dtype, copy, errors)\u001B[0m\n\u001B[1;32m   1289\u001B[0m     dtype \u001B[38;5;241m=\u001B[39m dtype\u001B[38;5;241m.\u001B[39mnumpy_dtype\n\u001B[1;32m   1291\u001B[0m \u001B[38;5;28;01mtry\u001B[39;00m:\n\u001B[0;32m-> 1292\u001B[0m     new_values \u001B[38;5;241m=\u001B[39m \u001B[43mastype_array\u001B[49m\u001B[43m(\u001B[49m\u001B[43mvalues\u001B[49m\u001B[43m,\u001B[49m\u001B[43m \u001B[49m\u001B[43mdtype\u001B[49m\u001B[43m,\u001B[49m\u001B[43m \u001B[49m\u001B[43mcopy\u001B[49m\u001B[38;5;241;43m=\u001B[39;49m\u001B[43mcopy\u001B[49m\u001B[43m)\u001B[49m\n\u001B[1;32m   1293\u001B[0m \u001B[38;5;28;01mexcept\u001B[39;00m (\u001B[38;5;167;01mValueError\u001B[39;00m, \u001B[38;5;167;01mTypeError\u001B[39;00m):\n\u001B[1;32m   1294\u001B[0m     \u001B[38;5;66;03m# e.g. astype_nansafe can fail on object-dtype of strings\u001B[39;00m\n\u001B[1;32m   1295\u001B[0m     \u001B[38;5;66;03m#  trying to convert to float\u001B[39;00m\n\u001B[1;32m   1296\u001B[0m     \u001B[38;5;28;01mif\u001B[39;00m errors \u001B[38;5;241m==\u001B[39m \u001B[38;5;124m\"\u001B[39m\u001B[38;5;124mignore\u001B[39m\u001B[38;5;124m\"\u001B[39m:\n",
      "File \u001B[0;32m/Volumes/reeth/git/cca/cs513_project/venv/lib/python3.9/site-packages/pandas/core/dtypes/cast.py:1237\u001B[0m, in \u001B[0;36mastype_array\u001B[0;34m(values, dtype, copy)\u001B[0m\n\u001B[1;32m   1234\u001B[0m     values \u001B[38;5;241m=\u001B[39m values\u001B[38;5;241m.\u001B[39mastype(dtype, copy\u001B[38;5;241m=\u001B[39mcopy)\n\u001B[1;32m   1236\u001B[0m \u001B[38;5;28;01melse\u001B[39;00m:\n\u001B[0;32m-> 1237\u001B[0m     values \u001B[38;5;241m=\u001B[39m \u001B[43mastype_nansafe\u001B[49m\u001B[43m(\u001B[49m\u001B[43mvalues\u001B[49m\u001B[43m,\u001B[49m\u001B[43m \u001B[49m\u001B[43mdtype\u001B[49m\u001B[43m,\u001B[49m\u001B[43m \u001B[49m\u001B[43mcopy\u001B[49m\u001B[38;5;241;43m=\u001B[39;49m\u001B[43mcopy\u001B[49m\u001B[43m)\u001B[49m\n\u001B[1;32m   1239\u001B[0m \u001B[38;5;66;03m# in pandas we don't store numpy str dtypes, so convert to object\u001B[39;00m\n\u001B[1;32m   1240\u001B[0m \u001B[38;5;28;01mif\u001B[39;00m \u001B[38;5;28misinstance\u001B[39m(dtype, np\u001B[38;5;241m.\u001B[39mdtype) \u001B[38;5;129;01mand\u001B[39;00m \u001B[38;5;28missubclass\u001B[39m(values\u001B[38;5;241m.\u001B[39mdtype\u001B[38;5;241m.\u001B[39mtype, \u001B[38;5;28mstr\u001B[39m):\n",
      "File \u001B[0;32m/Volumes/reeth/git/cca/cs513_project/venv/lib/python3.9/site-packages/pandas/core/dtypes/cast.py:1108\u001B[0m, in \u001B[0;36mastype_nansafe\u001B[0;34m(arr, dtype, copy, skipna)\u001B[0m\n\u001B[1;32m   1106\u001B[0m \u001B[38;5;66;03m# dispatch on extension dtype if needed\u001B[39;00m\n\u001B[1;32m   1107\u001B[0m \u001B[38;5;28;01mif\u001B[39;00m \u001B[38;5;28misinstance\u001B[39m(dtype, ExtensionDtype):\n\u001B[0;32m-> 1108\u001B[0m     \u001B[38;5;28;01mreturn\u001B[39;00m \u001B[43mdtype\u001B[49m\u001B[38;5;241;43m.\u001B[39;49m\u001B[43mconstruct_array_type\u001B[49m\u001B[43m(\u001B[49m\u001B[43m)\u001B[49m\u001B[38;5;241;43m.\u001B[39;49m\u001B[43m_from_sequence\u001B[49m\u001B[43m(\u001B[49m\u001B[43marr\u001B[49m\u001B[43m,\u001B[49m\u001B[43m \u001B[49m\u001B[43mdtype\u001B[49m\u001B[38;5;241;43m=\u001B[39;49m\u001B[43mdtype\u001B[49m\u001B[43m,\u001B[49m\u001B[43m \u001B[49m\u001B[43mcopy\u001B[49m\u001B[38;5;241;43m=\u001B[39;49m\u001B[43mcopy\u001B[49m\u001B[43m)\u001B[49m\n\u001B[1;32m   1110\u001B[0m \u001B[38;5;28;01melif\u001B[39;00m \u001B[38;5;129;01mnot\u001B[39;00m \u001B[38;5;28misinstance\u001B[39m(dtype, np\u001B[38;5;241m.\u001B[39mdtype):  \u001B[38;5;66;03m# pragma: no cover\u001B[39;00m\n\u001B[1;32m   1111\u001B[0m     \u001B[38;5;28;01mraise\u001B[39;00m \u001B[38;5;167;01mValueError\u001B[39;00m(\u001B[38;5;124m\"\u001B[39m\u001B[38;5;124mdtype must be np.dtype or ExtensionDtype\u001B[39m\u001B[38;5;124m\"\u001B[39m)\n",
      "File \u001B[0;32m/Volumes/reeth/git/cca/cs513_project/venv/lib/python3.9/site-packages/pandas/core/arrays/boolean.py:333\u001B[0m, in \u001B[0;36mBooleanArray._from_sequence\u001B[0;34m(cls, scalars, dtype, copy)\u001B[0m\n\u001B[1;32m    331\u001B[0m \u001B[38;5;28;01mif\u001B[39;00m dtype:\n\u001B[1;32m    332\u001B[0m     \u001B[38;5;28;01massert\u001B[39;00m dtype \u001B[38;5;241m==\u001B[39m \u001B[38;5;124m\"\u001B[39m\u001B[38;5;124mboolean\u001B[39m\u001B[38;5;124m\"\u001B[39m\n\u001B[0;32m--> 333\u001B[0m values, mask \u001B[38;5;241m=\u001B[39m \u001B[43mcoerce_to_array\u001B[49m\u001B[43m(\u001B[49m\u001B[43mscalars\u001B[49m\u001B[43m,\u001B[49m\u001B[43m \u001B[49m\u001B[43mcopy\u001B[49m\u001B[38;5;241;43m=\u001B[39;49m\u001B[43mcopy\u001B[49m\u001B[43m)\u001B[49m\n\u001B[1;32m    334\u001B[0m \u001B[38;5;28;01mreturn\u001B[39;00m BooleanArray(values, mask)\n",
      "File \u001B[0;32m/Volumes/reeth/git/cca/cs513_project/venv/lib/python3.9/site-packages/pandas/core/arrays/boolean.py:215\u001B[0m, in \u001B[0;36mcoerce_to_array\u001B[0;34m(values, mask, copy)\u001B[0m\n\u001B[1;32m    213\u001B[0m integer_like \u001B[38;5;241m=\u001B[39m (\u001B[38;5;124m\"\u001B[39m\u001B[38;5;124mfloating\u001B[39m\u001B[38;5;124m\"\u001B[39m, \u001B[38;5;124m\"\u001B[39m\u001B[38;5;124minteger\u001B[39m\u001B[38;5;124m\"\u001B[39m, \u001B[38;5;124m\"\u001B[39m\u001B[38;5;124mmixed-integer-float\u001B[39m\u001B[38;5;124m\"\u001B[39m)\n\u001B[1;32m    214\u001B[0m \u001B[38;5;28;01mif\u001B[39;00m inferred_dtype \u001B[38;5;129;01mnot\u001B[39;00m \u001B[38;5;129;01min\u001B[39;00m (\u001B[38;5;124m\"\u001B[39m\u001B[38;5;124mboolean\u001B[39m\u001B[38;5;124m\"\u001B[39m, \u001B[38;5;124m\"\u001B[39m\u001B[38;5;124mempty\u001B[39m\u001B[38;5;124m\"\u001B[39m) \u001B[38;5;241m+\u001B[39m integer_like:\n\u001B[0;32m--> 215\u001B[0m     \u001B[38;5;28;01mraise\u001B[39;00m \u001B[38;5;167;01mTypeError\u001B[39;00m(\u001B[38;5;124m\"\u001B[39m\u001B[38;5;124mNeed to pass bool-like values\u001B[39m\u001B[38;5;124m\"\u001B[39m)\n\u001B[1;32m    217\u001B[0m mask_values \u001B[38;5;241m=\u001B[39m isna(values_object)\n\u001B[1;32m    218\u001B[0m values \u001B[38;5;241m=\u001B[39m np\u001B[38;5;241m.\u001B[39mzeros(\u001B[38;5;28mlen\u001B[39m(values), dtype\u001B[38;5;241m=\u001B[39m\u001B[38;5;28mbool\u001B[39m)\n",
      "\u001B[0;31mTypeError\u001B[0m: Need to pass bool-like values"
     ]
    }
   ],
   "source": [
    "#Change column datatypes to boolean\n",
    "df[df.columns[23:-1]]=df[df.columns[23:-1]].astype(\"boolean\")"
   ],
   "metadata": {
    "collapsed": false,
    "pycharm": {
     "name": "#%%\n"
    }
   }
  },
  {
   "cell_type": "code",
   "execution_count": 269,
   "outputs": [
    {
     "data": {
      "text/plain": "FMID                0\nMarketName          0\nWebsite          3458\nFacebook         4869\nTwitter          7668\nYoutube          8504\nOtherMedia       8027\nstreet            285\ncity               40\nCounty            538\nState               0\nzip               944\nSeason1Date      3279\nSeason1Time      3140\nSeason2Date      8236\nSeason2Time      8251\nSeason3Date      8586\nSeason3Time      8590\nSeason4Date      8658\nSeason4Time      8658\nx                  29\ny                  29\nLocation         5729\nCredit              0\nWIC                 0\nWICcash             0\nSFMNP               0\nSNAP                0\nOrganic             0\nBakedgoods       3023\nCheese           3023\nCrafts           3023\nFlowers          3023\nEggs             3023\nSeafood          3023\nHerbs            3023\nVegetables       3023\nHoney            3023\nJams             3023\nMaple            3023\nMeat             3023\nNursery          3023\nNuts             3023\nPlants           3023\nPoultry          3023\nPrepared         3023\nSoap             3023\nTrees            3023\nWine             3023\nCoffee           3023\nBeans            3023\nFruits           3023\nGrains           3023\nJuices           3023\nMushrooms        3023\nPetFood          3023\nTofu             3023\nWildHarvested    3023\nupdateTime          0\ndtype: int64"
     },
     "execution_count": 269,
     "metadata": {},
     "output_type": "execute_result"
    }
   ],
   "source": [
    "# Check number of columns have missing values\n",
    "df.isna().sum()"
   ],
   "metadata": {
    "collapsed": false,
    "pycharm": {
     "name": "#%%\n"
    }
   }
  },
  {
   "cell_type": "code",
   "execution_count": 271,
   "outputs": [],
   "source": [
    "df=df[df['x'].notna()]\n",
    "df=df[df['y'].notna()]"
   ],
   "metadata": {
    "collapsed": false,
    "pycharm": {
     "name": "#%%\n"
    }
   }
  },
  {
   "cell_type": "code",
   "execution_count": 272,
   "outputs": [
    {
     "data": {
      "text/plain": "1012063    1\n1001862    1\n1007858    1\n1002692    1\n1002833    1\n          ..\n1010765    1\n1010955    1\n1002104    1\n1011730    1\n1011418    1\nName: FMID, Length: 8636, dtype: int64"
     },
     "execution_count": 272,
     "metadata": {},
     "output_type": "execute_result"
    }
   ],
   "source": [
    "df['FMID'].value_counts(ascending=False)"
   ],
   "metadata": {
    "collapsed": false,
    "pycharm": {
     "name": "#%%\n"
    }
   }
  },
  {
   "cell_type": "code",
   "execution_count": 240,
   "outputs": [
    {
     "ename": "ValueError",
     "evalue": "Location values cannot contain NaNs.",
     "output_type": "error",
     "traceback": [
      "\u001B[0;31m---------------------------------------------------------------------------\u001B[0m",
      "\u001B[0;31mValueError\u001B[0m                                Traceback (most recent call last)",
      "Input \u001B[0;32mIn [240]\u001B[0m, in \u001B[0;36m<cell line: 6>\u001B[0;34m()\u001B[0m\n\u001B[1;32m      7\u001B[0m     label \u001B[38;5;241m=\u001B[39m \u001B[38;5;124m'\u001B[39m\u001B[38;5;132;01m{}\u001B[39;00m\u001B[38;5;124m, \u001B[39m\u001B[38;5;132;01m{}\u001B[39;00m\u001B[38;5;124m'\u001B[39m\u001B[38;5;241m.\u001B[39mformat(market, state)\n\u001B[1;32m      8\u001B[0m     label \u001B[38;5;241m=\u001B[39m folium\u001B[38;5;241m.\u001B[39mPopup(label, parse_html\u001B[38;5;241m=\u001B[39m\u001B[38;5;28;01mTrue\u001B[39;00m)\n\u001B[0;32m----> 9\u001B[0m     \u001B[43mfolium\u001B[49m\u001B[38;5;241;43m.\u001B[39;49m\u001B[43mCircleMarker\u001B[49m\u001B[43m(\u001B[49m\n\u001B[1;32m     10\u001B[0m \u001B[43m        \u001B[49m\u001B[43m[\u001B[49m\u001B[43mlat\u001B[49m\u001B[43m,\u001B[49m\u001B[43m \u001B[49m\u001B[43mlng\u001B[49m\u001B[43m]\u001B[49m\u001B[43m,\u001B[49m\n\u001B[1;32m     11\u001B[0m \u001B[43m        \u001B[49m\u001B[43mradius\u001B[49m\u001B[38;5;241;43m=\u001B[39;49m\u001B[38;5;241;43m1\u001B[39;49m\u001B[43m,\u001B[49m\n\u001B[1;32m     12\u001B[0m \u001B[43m        \u001B[49m\u001B[43mpopup\u001B[49m\u001B[38;5;241;43m=\u001B[39;49m\u001B[43mlabel\u001B[49m\u001B[43m,\u001B[49m\n\u001B[1;32m     13\u001B[0m \u001B[43m        \u001B[49m\u001B[43mcolor\u001B[49m\u001B[38;5;241;43m=\u001B[39;49m\u001B[38;5;124;43m'\u001B[39;49m\u001B[38;5;124;43mblue\u001B[39;49m\u001B[38;5;124;43m'\u001B[39;49m\u001B[43m,\u001B[49m\n\u001B[1;32m     14\u001B[0m \u001B[43m        \u001B[49m\u001B[43mfill\u001B[49m\u001B[38;5;241;43m=\u001B[39;49m\u001B[38;5;28;43;01mTrue\u001B[39;49;00m\u001B[43m,\u001B[49m\n\u001B[1;32m     15\u001B[0m \u001B[43m        \u001B[49m\u001B[43mfill_color\u001B[49m\u001B[38;5;241;43m=\u001B[39;49m\u001B[38;5;124;43m'\u001B[39;49m\u001B[38;5;124;43m#31cc34\u001B[39;49m\u001B[38;5;124;43m'\u001B[39;49m\u001B[43m,\u001B[49m\n\u001B[1;32m     16\u001B[0m \u001B[43m        \u001B[49m\u001B[43mfill_opacity\u001B[49m\u001B[38;5;241;43m=\u001B[39;49m\u001B[38;5;241;43m0.5\u001B[39;49m\u001B[43m,\u001B[49m\n\u001B[1;32m     17\u001B[0m \u001B[43m        \u001B[49m\u001B[43mparse_html\u001B[49m\u001B[38;5;241;43m=\u001B[39;49m\u001B[38;5;28;43;01mFalse\u001B[39;49;00m\u001B[43m)\u001B[49m\u001B[38;5;241m.\u001B[39madd_to(map_markets)\n\u001B[1;32m     19\u001B[0m map_markets\n",
      "File \u001B[0;32m/Volumes/reeth/git/cca/cs513_project/venv/lib/python3.9/site-packages/folium/vector_layers.py:304\u001B[0m, in \u001B[0;36mCircleMarker.__init__\u001B[0;34m(self, location, radius, popup, tooltip, **kwargs)\u001B[0m\n\u001B[1;32m    303\u001B[0m \u001B[38;5;28;01mdef\u001B[39;00m \u001B[38;5;21m__init__\u001B[39m(\u001B[38;5;28mself\u001B[39m, location\u001B[38;5;241m=\u001B[39m\u001B[38;5;28;01mNone\u001B[39;00m, radius\u001B[38;5;241m=\u001B[39m\u001B[38;5;241m10\u001B[39m, popup\u001B[38;5;241m=\u001B[39m\u001B[38;5;28;01mNone\u001B[39;00m, tooltip\u001B[38;5;241m=\u001B[39m\u001B[38;5;28;01mNone\u001B[39;00m, \u001B[38;5;241m*\u001B[39m\u001B[38;5;241m*\u001B[39mkwargs):\n\u001B[0;32m--> 304\u001B[0m     \u001B[38;5;28;43msuper\u001B[39;49m\u001B[43m(\u001B[49m\u001B[43mCircleMarker\u001B[49m\u001B[43m,\u001B[49m\u001B[43m \u001B[49m\u001B[38;5;28;43mself\u001B[39;49m\u001B[43m)\u001B[49m\u001B[38;5;241;43m.\u001B[39;49m\u001B[38;5;21;43m__init__\u001B[39;49m\u001B[43m(\u001B[49m\u001B[43mlocation\u001B[49m\u001B[43m,\u001B[49m\u001B[43m \u001B[49m\u001B[43mpopup\u001B[49m\u001B[38;5;241;43m=\u001B[39;49m\u001B[43mpopup\u001B[49m\u001B[43m,\u001B[49m\n\u001B[1;32m    305\u001B[0m \u001B[43m                                       \u001B[49m\u001B[43mtooltip\u001B[49m\u001B[38;5;241;43m=\u001B[39;49m\u001B[43mtooltip\u001B[49m\u001B[43m)\u001B[49m\n\u001B[1;32m    306\u001B[0m     \u001B[38;5;28mself\u001B[39m\u001B[38;5;241m.\u001B[39m_name \u001B[38;5;241m=\u001B[39m \u001B[38;5;124m'\u001B[39m\u001B[38;5;124mCircleMarker\u001B[39m\u001B[38;5;124m'\u001B[39m\n\u001B[1;32m    307\u001B[0m     \u001B[38;5;28mself\u001B[39m\u001B[38;5;241m.\u001B[39moptions \u001B[38;5;241m=\u001B[39m path_options(line\u001B[38;5;241m=\u001B[39m\u001B[38;5;28;01mFalse\u001B[39;00m, radius\u001B[38;5;241m=\u001B[39mradius, \u001B[38;5;241m*\u001B[39m\u001B[38;5;241m*\u001B[39mkwargs)\n",
      "File \u001B[0;32m/Volumes/reeth/git/cca/cs513_project/venv/lib/python3.9/site-packages/folium/map.py:277\u001B[0m, in \u001B[0;36mMarker.__init__\u001B[0;34m(self, location, popup, tooltip, icon, draggable, **kwargs)\u001B[0m\n\u001B[1;32m    275\u001B[0m \u001B[38;5;28msuper\u001B[39m(Marker, \u001B[38;5;28mself\u001B[39m)\u001B[38;5;241m.\u001B[39m\u001B[38;5;21m__init__\u001B[39m()\n\u001B[1;32m    276\u001B[0m \u001B[38;5;28mself\u001B[39m\u001B[38;5;241m.\u001B[39m_name \u001B[38;5;241m=\u001B[39m \u001B[38;5;124m'\u001B[39m\u001B[38;5;124mMarker\u001B[39m\u001B[38;5;124m'\u001B[39m\n\u001B[0;32m--> 277\u001B[0m \u001B[38;5;28mself\u001B[39m\u001B[38;5;241m.\u001B[39mlocation \u001B[38;5;241m=\u001B[39m \u001B[43mvalidate_location\u001B[49m\u001B[43m(\u001B[49m\u001B[43mlocation\u001B[49m\u001B[43m)\u001B[49m \u001B[38;5;28;01mif\u001B[39;00m location \u001B[38;5;28;01melse\u001B[39;00m \u001B[38;5;28;01mNone\u001B[39;00m\n\u001B[1;32m    278\u001B[0m \u001B[38;5;28mself\u001B[39m\u001B[38;5;241m.\u001B[39moptions \u001B[38;5;241m=\u001B[39m parse_options(\n\u001B[1;32m    279\u001B[0m     draggable\u001B[38;5;241m=\u001B[39mdraggable \u001B[38;5;129;01mor\u001B[39;00m \u001B[38;5;28;01mNone\u001B[39;00m,\n\u001B[1;32m    280\u001B[0m     autoPan\u001B[38;5;241m=\u001B[39mdraggable \u001B[38;5;129;01mor\u001B[39;00m \u001B[38;5;28;01mNone\u001B[39;00m,\n\u001B[1;32m    281\u001B[0m     \u001B[38;5;241m*\u001B[39m\u001B[38;5;241m*\u001B[39mkwargs\n\u001B[1;32m    282\u001B[0m )\n\u001B[1;32m    283\u001B[0m \u001B[38;5;28;01mif\u001B[39;00m icon \u001B[38;5;129;01mis\u001B[39;00m \u001B[38;5;129;01mnot\u001B[39;00m \u001B[38;5;28;01mNone\u001B[39;00m:\n",
      "File \u001B[0;32m/Volumes/reeth/git/cca/cs513_project/venv/lib/python3.9/site-packages/folium/utilities.py:66\u001B[0m, in \u001B[0;36mvalidate_location\u001B[0;34m(location)\u001B[0m\n\u001B[1;32m     62\u001B[0m         \u001B[38;5;28;01mraise\u001B[39;00m \u001B[38;5;167;01mValueError\u001B[39;00m(\u001B[38;5;124m'\u001B[39m\u001B[38;5;124mLocation should consist of two numerical values, \u001B[39m\u001B[38;5;124m'\u001B[39m\n\u001B[1;32m     63\u001B[0m                          \u001B[38;5;124m'\u001B[39m\u001B[38;5;124mbut \u001B[39m\u001B[38;5;132;01m{!r}\u001B[39;00m\u001B[38;5;124m of type \u001B[39m\u001B[38;5;132;01m{}\u001B[39;00m\u001B[38;5;124m is not convertible to float.\u001B[39m\u001B[38;5;124m'\u001B[39m\n\u001B[1;32m     64\u001B[0m                          \u001B[38;5;241m.\u001B[39mformat(coord, \u001B[38;5;28mtype\u001B[39m(coord)))\n\u001B[1;32m     65\u001B[0m     \u001B[38;5;28;01mif\u001B[39;00m math\u001B[38;5;241m.\u001B[39misnan(\u001B[38;5;28mfloat\u001B[39m(coord)):\n\u001B[0;32m---> 66\u001B[0m         \u001B[38;5;28;01mraise\u001B[39;00m \u001B[38;5;167;01mValueError\u001B[39;00m(\u001B[38;5;124m'\u001B[39m\u001B[38;5;124mLocation values cannot contain NaNs.\u001B[39m\u001B[38;5;124m'\u001B[39m)\n\u001B[1;32m     67\u001B[0m \u001B[38;5;28;01mreturn\u001B[39;00m [\u001B[38;5;28mfloat\u001B[39m(x) \u001B[38;5;28;01mfor\u001B[39;00m x \u001B[38;5;129;01min\u001B[39;00m coords]\n",
      "\u001B[0;31mValueError\u001B[0m: Location values cannot contain NaNs."
     ]
    }
   ],
   "source": [
    "import folium\n",
    "# Create a map of U.S. farmers markets using latitude and longitude values\n",
    "map_markets = folium.Map(location=[39.8283, -98.5795], zoom_start=5, popup='Portland, OR')\n",
    "\n",
    "# add markers to map\n",
    "for  lng,lat, market, state in zip(df['LAT'],df['LON'], df['MarketName'], df['State']):\n",
    "    label = '{}, {}'.format(market, state)\n",
    "    label = folium.Popup(label, parse_html=True)\n",
    "    folium.CircleMarker(\n",
    "        [lat, lng],\n",
    "        radius=1,\n",
    "        popup=label,\n",
    "        color='blue',\n",
    "        fill=True,\n",
    "        fill_color='#31cc34',\n",
    "        fill_opacity=0.5,\n",
    "        parse_html=False).add_to(map_markets)\n",
    "\n",
    "map_markets"
   ],
   "metadata": {
    "collapsed": false,
    "pycharm": {
     "name": "#%%\n"
    }
   }
  },
  {
   "cell_type": "code",
   "execution_count": 241,
   "outputs": [],
   "source": [
    "#Examport SQL data to Table\n",
    "import sqlite3\n",
    "conn = sqlite3.connect(\"farmers_market.db\")"
   ],
   "metadata": {
    "collapsed": false,
    "pycharm": {
     "name": "#%%\n"
    }
   }
  },
  {
   "cell_type": "code",
   "execution_count": null,
   "outputs": [],
   "source": [
    "df.to_sql(\"farmers_market\", conn, if_exists=\"replace\")"
   ],
   "metadata": {
    "collapsed": false,
    "pycharm": {
     "name": "#%%\n"
    }
   }
  },
  {
   "cell_type": "code",
   "execution_count": 11,
   "outputs": [],
   "source": [
    "conn.execute(\n",
    "    \"\"\"\n",
    "    create table farmers_market as\n",
    "    select * from tmp\n",
    "    \"\"\")"
   ],
   "metadata": {
    "collapsed": false,
    "pycharm": {
     "name": "#%%\n"
    }
   }
  },
  {
   "cell_type": "markdown",
   "source": [
    "Validate It"
   ],
   "metadata": {
    "collapsed": false,
    "pycharm": {
     "name": "#%% md\n"
    }
   }
  },
  {
   "cell_type": "code",
   "source": [
    "conn.cursor().execute(\n",
    "    \"\"\"\n",
    "    select count(*) from farmers_market\n",
    "    \"\"\").fetchall()"
   ],
   "metadata": {
    "collapsed": false,
    "pycharm": {
     "name": "#%%\n"
    }
   },
   "execution_count": null,
   "outputs": []
  },
  {
   "cell_type": "code",
   "execution_count": 14,
   "outputs": [
    {
     "data": {
      "text/plain": "[(8621,)]"
     },
     "execution_count": 14,
     "metadata": {},
     "output_type": "execute_result"
    }
   ],
   "source": [
    "df"
   ],
   "metadata": {
    "collapsed": false,
    "pycharm": {
     "name": "#%%\n"
    }
   }
  },
  {
   "cell_type": "code",
   "execution_count": 16,
   "outputs": [
    {
     "data": {
      "text/plain": "         FMID                              MarketName  \\\n0     1000001            Shelby Food and Craft Market   \n1     1000003                   Edmore Farmers Market   \n2     1000006         Westwood Village Farmers Market   \n3     1000007  Santa Barbara La Cumbre Farmers Market   \n4     1000008                 Montrose Farmers Market   \n...       ...                                     ...   \n8633  1012842               Fort Smith Farmers Market   \n8634  1012843              Flagstaff Community Market   \n8635  1012844              Hope Street Farmers Market   \n8636  1016768           North Scituate Farmers Market   \n8637  1016770               Ktizo UCC Farmers' Market   \n\n                                      Website  \\\n0                                         NaN   \n1                       http://www.Edmore.org   \n2               http://www.westwoodonline.com   \n3              http://www.sbfarmersmarket.org   \n4        http://www.montrosefarmersmarket.com   \n...                                       ...   \n8633                                      NaN   \n8634           http://www.flagstaffmarket.com   \n8635         http://www.hopestreetmarket.com/   \n8636  http://www.scituatefarmersmarketri.org/   \n8637                                      NaN   \n\n                                               Facebook  \\\n0                                                   NaN   \n1          https://www.facebook.com/EdmoreFarmersMarket   \n2                                                   NaN   \n3                                                   NaN   \n4        https://www.facebook.com/MontroseFarmersMarket   \n...                                                 ...   \n8633            www.facebook.com/FortSmithFarmersMarket   \n8634                         flagstaff community market   \n8635                                                NaN   \n8636  https://www.facebook.com/scituatefarmersmarket...   \n8637        https://www.facebook.com/ktizofarmersmarket   \n\n                               Twitter Youtube                   OtherMedia  \\\n0                                  NaN     NaN                          NaN   \n1     https://Twitter.com/edmoremarket     NaN                          NaN   \n2                                  NaN     NaN                          NaN   \n3                                  NaN     NaN                          NaN   \n4                                  NaN     NaN                          NaN   \n...                                ...     ...                          ...   \n8633                               NaN     NaN  instagram  @FSfarmersmarket   \n8634                               NaN     NaN                          NaN   \n8635                               NaN     NaN                          NaN   \n8636                               NaN     NaN                          NaN   \n8637                               NaN     NaN                          NaN   \n\n                                      street            city         County  \\\n0                             City Hall park          Shelby          Toole   \n1     Corner of Lewis Street and Pine Street          Edmore       Montcalm   \n2              Weyburn Ave. & Westwood Blvd.     Los Angeles    Los Angeles   \n3                      110 South Hope Avenue   Santa Barbara  Santa Barbara   \n4              Main St. and Uncompahgre Ave.        Montrose       Montrose   \n...                                      ...             ...            ...   \n8633       15 N 2nd St, Fort Smith, AR 72901      Fort Smith      Sebastian   \n8634                         211 W Aspen Ave       Flagstaff       Coconino   \n8635                        1059 Hope Street      Providence     Providence   \n8636                       46 Institute Lane  North Scituate     Providence   \n8637                        8740 N. 35th ave         Phoenix       Maricopa   \n\n      ... Coffee  Beans Fruits Grains Juices Mushrooms PetFood   Tofu  \\\n0     ...   <NA>   <NA>   <NA>   <NA>   <NA>      <NA>    <NA>   <NA>   \n1     ...  False  False   True  False  False     False   False  False   \n2     ...   <NA>   <NA>   <NA>   <NA>   <NA>      <NA>    <NA>   <NA>   \n3     ...   <NA>   <NA>   <NA>   <NA>   <NA>      <NA>    <NA>   <NA>   \n4     ...   True   True   True  False  False      True    True  False   \n...   ...    ...    ...    ...    ...    ...       ...     ...    ...   \n8633  ...   True  False   True  False   True      True    True  False   \n8634  ...   True  False   True  False  False     False   False  False   \n8635  ...   True  False   True  False   True      True   False  False   \n8636  ...  False  False   True  False  False     False   False  False   \n8637  ...   True  False   True   True   True     False   False  False   \n\n     WildHarvested          updateTime  \n0             <NA> 2009-01-01 00:00:00  \n1            False 2014-03-14 11:06:18  \n2             <NA> 2009-01-01 00:00:00  \n3             <NA> 2009-01-01 00:00:00  \n4            False 2016-06-27 13:22:54  \n...            ...                 ...  \n8633          True 2016-10-27 14:24:38  \n8634          True 2016-10-27 23:19:17  \n8635         False 2016-10-28 14:45:53  \n8636         False 2016-10-31 10:31:23  \n8637          True 2016-11-04 05:26:55  \n\n[8636 rows x 58 columns]",
      "text/html": "<div>\n<style scoped>\n    .dataframe tbody tr th:only-of-type {\n        vertical-align: middle;\n    }\n\n    .dataframe tbody tr th {\n        vertical-align: top;\n    }\n\n    .dataframe thead th {\n        text-align: right;\n    }\n</style>\n<table border=\"1\" class=\"dataframe\">\n  <thead>\n    <tr style=\"text-align: right;\">\n      <th></th>\n      <th>FMID</th>\n      <th>MarketName</th>\n      <th>Website</th>\n      <th>Facebook</th>\n      <th>Twitter</th>\n      <th>Youtube</th>\n      <th>OtherMedia</th>\n      <th>street</th>\n      <th>city</th>\n      <th>County</th>\n      <th>...</th>\n      <th>Coffee</th>\n      <th>Beans</th>\n      <th>Fruits</th>\n      <th>Grains</th>\n      <th>Juices</th>\n      <th>Mushrooms</th>\n      <th>PetFood</th>\n      <th>Tofu</th>\n      <th>WildHarvested</th>\n      <th>updateTime</th>\n    </tr>\n  </thead>\n  <tbody>\n    <tr>\n      <th>0</th>\n      <td>1000001</td>\n      <td>Shelby Food and Craft Market</td>\n      <td>NaN</td>\n      <td>NaN</td>\n      <td>NaN</td>\n      <td>NaN</td>\n      <td>NaN</td>\n      <td>City Hall park</td>\n      <td>Shelby</td>\n      <td>Toole</td>\n      <td>...</td>\n      <td>&lt;NA&gt;</td>\n      <td>&lt;NA&gt;</td>\n      <td>&lt;NA&gt;</td>\n      <td>&lt;NA&gt;</td>\n      <td>&lt;NA&gt;</td>\n      <td>&lt;NA&gt;</td>\n      <td>&lt;NA&gt;</td>\n      <td>&lt;NA&gt;</td>\n      <td>&lt;NA&gt;</td>\n      <td>2009-01-01 00:00:00</td>\n    </tr>\n    <tr>\n      <th>1</th>\n      <td>1000003</td>\n      <td>Edmore Farmers Market</td>\n      <td>http://www.Edmore.org</td>\n      <td>https://www.facebook.com/EdmoreFarmersMarket</td>\n      <td>https://Twitter.com/edmoremarket</td>\n      <td>NaN</td>\n      <td>NaN</td>\n      <td>Corner of Lewis Street and Pine Street</td>\n      <td>Edmore</td>\n      <td>Montcalm</td>\n      <td>...</td>\n      <td>False</td>\n      <td>False</td>\n      <td>True</td>\n      <td>False</td>\n      <td>False</td>\n      <td>False</td>\n      <td>False</td>\n      <td>False</td>\n      <td>False</td>\n      <td>2014-03-14 11:06:18</td>\n    </tr>\n    <tr>\n      <th>2</th>\n      <td>1000006</td>\n      <td>Westwood Village Farmers Market</td>\n      <td>http://www.westwoodonline.com</td>\n      <td>NaN</td>\n      <td>NaN</td>\n      <td>NaN</td>\n      <td>NaN</td>\n      <td>Weyburn Ave. &amp; Westwood Blvd.</td>\n      <td>Los Angeles</td>\n      <td>Los Angeles</td>\n      <td>...</td>\n      <td>&lt;NA&gt;</td>\n      <td>&lt;NA&gt;</td>\n      <td>&lt;NA&gt;</td>\n      <td>&lt;NA&gt;</td>\n      <td>&lt;NA&gt;</td>\n      <td>&lt;NA&gt;</td>\n      <td>&lt;NA&gt;</td>\n      <td>&lt;NA&gt;</td>\n      <td>&lt;NA&gt;</td>\n      <td>2009-01-01 00:00:00</td>\n    </tr>\n    <tr>\n      <th>3</th>\n      <td>1000007</td>\n      <td>Santa Barbara La Cumbre Farmers Market</td>\n      <td>http://www.sbfarmersmarket.org</td>\n      <td>NaN</td>\n      <td>NaN</td>\n      <td>NaN</td>\n      <td>NaN</td>\n      <td>110 South Hope Avenue</td>\n      <td>Santa Barbara</td>\n      <td>Santa Barbara</td>\n      <td>...</td>\n      <td>&lt;NA&gt;</td>\n      <td>&lt;NA&gt;</td>\n      <td>&lt;NA&gt;</td>\n      <td>&lt;NA&gt;</td>\n      <td>&lt;NA&gt;</td>\n      <td>&lt;NA&gt;</td>\n      <td>&lt;NA&gt;</td>\n      <td>&lt;NA&gt;</td>\n      <td>&lt;NA&gt;</td>\n      <td>2009-01-01 00:00:00</td>\n    </tr>\n    <tr>\n      <th>4</th>\n      <td>1000008</td>\n      <td>Montrose Farmers Market</td>\n      <td>http://www.montrosefarmersmarket.com</td>\n      <td>https://www.facebook.com/MontroseFarmersMarket</td>\n      <td>NaN</td>\n      <td>NaN</td>\n      <td>NaN</td>\n      <td>Main St. and Uncompahgre Ave.</td>\n      <td>Montrose</td>\n      <td>Montrose</td>\n      <td>...</td>\n      <td>True</td>\n      <td>True</td>\n      <td>True</td>\n      <td>False</td>\n      <td>False</td>\n      <td>True</td>\n      <td>True</td>\n      <td>False</td>\n      <td>False</td>\n      <td>2016-06-27 13:22:54</td>\n    </tr>\n    <tr>\n      <th>...</th>\n      <td>...</td>\n      <td>...</td>\n      <td>...</td>\n      <td>...</td>\n      <td>...</td>\n      <td>...</td>\n      <td>...</td>\n      <td>...</td>\n      <td>...</td>\n      <td>...</td>\n      <td>...</td>\n      <td>...</td>\n      <td>...</td>\n      <td>...</td>\n      <td>...</td>\n      <td>...</td>\n      <td>...</td>\n      <td>...</td>\n      <td>...</td>\n      <td>...</td>\n      <td>...</td>\n    </tr>\n    <tr>\n      <th>8633</th>\n      <td>1012842</td>\n      <td>Fort Smith Farmers Market</td>\n      <td>NaN</td>\n      <td>www.facebook.com/FortSmithFarmersMarket</td>\n      <td>NaN</td>\n      <td>NaN</td>\n      <td>instagram  @FSfarmersmarket</td>\n      <td>15 N 2nd St, Fort Smith, AR 72901</td>\n      <td>Fort Smith</td>\n      <td>Sebastian</td>\n      <td>...</td>\n      <td>True</td>\n      <td>False</td>\n      <td>True</td>\n      <td>False</td>\n      <td>True</td>\n      <td>True</td>\n      <td>True</td>\n      <td>False</td>\n      <td>True</td>\n      <td>2016-10-27 14:24:38</td>\n    </tr>\n    <tr>\n      <th>8634</th>\n      <td>1012843</td>\n      <td>Flagstaff Community Market</td>\n      <td>http://www.flagstaffmarket.com</td>\n      <td>flagstaff community market</td>\n      <td>NaN</td>\n      <td>NaN</td>\n      <td>NaN</td>\n      <td>211 W Aspen Ave</td>\n      <td>Flagstaff</td>\n      <td>Coconino</td>\n      <td>...</td>\n      <td>True</td>\n      <td>False</td>\n      <td>True</td>\n      <td>False</td>\n      <td>False</td>\n      <td>False</td>\n      <td>False</td>\n      <td>False</td>\n      <td>True</td>\n      <td>2016-10-27 23:19:17</td>\n    </tr>\n    <tr>\n      <th>8635</th>\n      <td>1012844</td>\n      <td>Hope Street Farmers Market</td>\n      <td>http://www.hopestreetmarket.com/</td>\n      <td>NaN</td>\n      <td>NaN</td>\n      <td>NaN</td>\n      <td>NaN</td>\n      <td>1059 Hope Street</td>\n      <td>Providence</td>\n      <td>Providence</td>\n      <td>...</td>\n      <td>True</td>\n      <td>False</td>\n      <td>True</td>\n      <td>False</td>\n      <td>True</td>\n      <td>True</td>\n      <td>False</td>\n      <td>False</td>\n      <td>False</td>\n      <td>2016-10-28 14:45:53</td>\n    </tr>\n    <tr>\n      <th>8636</th>\n      <td>1016768</td>\n      <td>North Scituate Farmers Market</td>\n      <td>http://www.scituatefarmersmarketri.org/</td>\n      <td>https://www.facebook.com/scituatefarmersmarket...</td>\n      <td>NaN</td>\n      <td>NaN</td>\n      <td>NaN</td>\n      <td>46 Institute Lane</td>\n      <td>North Scituate</td>\n      <td>Providence</td>\n      <td>...</td>\n      <td>False</td>\n      <td>False</td>\n      <td>True</td>\n      <td>False</td>\n      <td>False</td>\n      <td>False</td>\n      <td>False</td>\n      <td>False</td>\n      <td>False</td>\n      <td>2016-10-31 10:31:23</td>\n    </tr>\n    <tr>\n      <th>8637</th>\n      <td>1016770</td>\n      <td>Ktizo UCC Farmers' Market</td>\n      <td>NaN</td>\n      <td>https://www.facebook.com/ktizofarmersmarket</td>\n      <td>NaN</td>\n      <td>NaN</td>\n      <td>NaN</td>\n      <td>8740 N. 35th ave</td>\n      <td>Phoenix</td>\n      <td>Maricopa</td>\n      <td>...</td>\n      <td>True</td>\n      <td>False</td>\n      <td>True</td>\n      <td>True</td>\n      <td>True</td>\n      <td>False</td>\n      <td>False</td>\n      <td>False</td>\n      <td>True</td>\n      <td>2016-11-04 05:26:55</td>\n    </tr>\n  </tbody>\n</table>\n<p>8636 rows × 58 columns</p>\n</div>"
     },
     "execution_count": 16,
     "metadata": {},
     "output_type": "execute_result"
    }
   ],
   "source": [
    "df.to_csv('dataset/export_0716.csv')"
   ],
   "metadata": {
    "collapsed": false,
    "pycharm": {
     "name": "#%%\n"
    }
   }
  },
  {
   "cell_type": "code",
   "execution_count": 19,
   "outputs": [],
   "source": [
    "df.count()"
   ],
   "metadata": {
    "collapsed": false,
    "pycharm": {
     "name": "#%%\n"
    }
   }
  },
  {
   "cell_type": "markdown",
   "source": [
    "Columns for Visualization"
   ],
   "metadata": {
    "collapsed": false,
    "pycharm": {
     "name": "#%% md\n"
    }
   }
  },
  {
   "cell_type": "code",
   "source": [
    "df['has_social_media']=df.apply(lambda x:  pd.isna(x.Facebook) is False or pd.isna(x.Twitter) is False or  pd.isna(x.Youtube) is False or pd.isna(x.Website) is False or pd.isna(x.OtherMedia) is False,axis=1)"
   ],
   "metadata": {
    "collapsed": false,
    "pycharm": {
     "name": "#%%\n"
    }
   },
   "execution_count": 273,
   "outputs": []
  },
  {
   "cell_type": "code",
   "execution_count": 274,
   "outputs": [
    {
     "data": {
      "text/plain": "True     6029\nFalse    2607\nName: has_social_media, dtype: int64"
     },
     "execution_count": 274,
     "metadata": {},
     "output_type": "execute_result"
    }
   ],
   "source": [
    "df.has_social_media.value_counts()"
   ],
   "metadata": {
    "collapsed": false,
    "pycharm": {
     "name": "#%%\n"
    }
   }
  },
  {
   "cell_type": "markdown",
   "source": [
    "## Address Cleaning Rules"
   ],
   "metadata": {
    "collapsed": false,
    "pycharm": {
     "name": "#%% md\n"
    }
   }
  },
  {
   "cell_type": "code",
   "source": [
    "fm_subset=df[[\"FMID\",'MarketName',\"Facebook\",\"Twitter\",\"Youtube\",\"Website\",'has_social_media',\"city\",\"State\",\"street\",\"County\",\"x\",\"y\",'Credit','WIC','WICcash','SFMNP','Organic','Flowers','Vegetables','Meat','Nursery','Wine','Coffee','Fruits','PetFood','WildHarvested','updateTime']]"
   ],
   "metadata": {
    "collapsed": false,
    "pycharm": {
     "name": "#%%\n"
    }
   },
   "execution_count": 297,
   "outputs": []
  },
  {
   "cell_type": "code",
   "execution_count": 298,
   "outputs": [],
   "source": [
    "import pandas_usaddress,re"
   ],
   "metadata": {
    "collapsed": false,
    "pycharm": {
     "name": "#%%\n"
    }
   }
  },
  {
   "cell_type": "code",
   "source": [
    "fm_subset=pandas_usaddress.tag(fm_subset, ['street'], granularity='medium', standardize=False)"
   ],
   "metadata": {
    "collapsed": false,
    "pycharm": {
     "name": "#%%\n"
    }
   },
   "execution_count": 299,
   "outputs": [
    {
     "name": "stderr",
     "output_type": "stream",
     "text": [
      "/var/folders/qd/tg9lj7vj279dq94pqm2rj3n80000gn/T/ipykernel_56493/3169073722.py:1: FutureWarning: The default value of regex will change from True to False in a future version.\n",
      "  fm_subset=pandas_usaddress.tag(fm_subset, ['street'], granularity='medium', standardize=False)\n"
     ]
    }
   ]
  },
  {
   "cell_type": "code",
   "execution_count": 300,
   "outputs": [
    {
     "data": {
      "text/plain": "Index(['FMID', 'MarketName', 'Facebook', 'Twitter', 'Youtube', 'Website',\n       'has_social_media', 'city', 'State', 'street', 'County', 'x', 'y',\n       'Credit', 'WIC', 'WICcash', 'SFMNP', 'Organic', 'Flowers', 'Vegetables',\n       'Meat', 'Nursery', 'Wine', 'Coffee', 'Fruits', 'PetFood',\n       'WildHarvested', 'updateTime', 'AddressNumber', 'PlaceName',\n       'StateName', 'StreetName', 'StreetNamePreDirectional',\n       'StreetNamePostDirectional', 'ZipCode', 'StreetNamePrefix',\n       'StreetNameSuffix', 'USPSBox', 'OccupancySuite'],\n      dtype='object')"
     },
     "execution_count": 300,
     "metadata": {},
     "output_type": "execute_result"
    }
   ],
   "source": [
    "fm_subset.columns"
   ],
   "metadata": {
    "collapsed": false,
    "pycharm": {
     "name": "#%%\n"
    }
   }
  },
  {
   "cell_type": "code",
   "execution_count": 301,
   "outputs": [],
   "source": [
    "def address_number_sumamry(fm_subset):\n",
    "    print(fm_subset['AddressNumber'].apply(lambda x: re.search('[^\\d]+',str(x)) is None).sum())"
   ],
   "metadata": {
    "collapsed": false,
    "pycharm": {
     "name": "#%%\n"
    }
   }
  },
  {
   "cell_type": "markdown",
   "source": [
    "## AddressNumber cleanup\n",
    "### Before update AddressNumber"
   ],
   "metadata": {
    "collapsed": false,
    "pycharm": {
     "name": "#%% md\n"
    }
   }
  },
  {
   "cell_type": "code",
   "source": [
    "address_number_sumamry(fm_subset)"
   ],
   "metadata": {
    "collapsed": false,
    "pycharm": {
     "name": "#%%\n"
    }
   },
   "execution_count": 280,
   "outputs": [
    {
     "name": "stdout",
     "output_type": "stream",
     "text": [
      "4913\n"
     ]
    }
   ]
  },
  {
   "cell_type": "code",
   "execution_count": 302,
   "outputs": [],
   "source": [
    "import re\n",
    "def address_number_fun(strr):\n",
    "    if pd.isna(strr) :\n",
    "        return strr\n",
    "    p=re.compile('(\\d+)?[^0-9]*')\n",
    "    m=p.match(strr)\n",
    "    grps = m.groups()\n",
    "    return grps[0] if len(grps)>0 else pd.NaT"
   ],
   "metadata": {
    "collapsed": false,
    "pycharm": {
     "name": "#%%\n"
    }
   }
  },
  {
   "cell_type": "code",
   "execution_count": 282,
   "outputs": [],
   "source": [
    "fm_subset['AddressNumber']=fm_subset['AddressNumber'].apply(address_number_fun)"
   ],
   "metadata": {
    "collapsed": false,
    "pycharm": {
     "name": "#%%\n"
    }
   }
  },
  {
   "cell_type": "markdown",
   "source": [
    "### After Cleanup"
   ],
   "metadata": {
    "collapsed": false,
    "pycharm": {
     "name": "#%% md\n"
    }
   }
  },
  {
   "cell_type": "code",
   "source": [
    "address_number_sumamry(fm_subset)"
   ],
   "metadata": {
    "collapsed": false,
    "pycharm": {
     "name": "#%%\n"
    }
   },
   "execution_count": 283,
   "outputs": [
    {
     "name": "stdout",
     "output_type": "stream",
     "text": [
      "5195\n"
     ]
    }
   ]
  },
  {
   "cell_type": "markdown",
   "source": [
    "## Street Suffx Cleanup"
   ],
   "metadata": {
    "collapsed": false,
    "pycharm": {
     "name": "#%% md\n"
    }
   }
  },
  {
   "cell_type": "markdown",
   "source": [
    "#Prepare street suffix\n",
    "str_sfx=pd.read_csv('dataset/street_suffix_abbvr.csv')\n",
    "str_sfx.fillna(method='ffill',inplace=True)\n",
    "str_sfx = str_sfx.applymap(lambda s: s.lower() if type(s) == str else s)\n",
    "str_sfx.set_index('abbvr',inplace=True).to_dict()"
   ],
   "metadata": {
    "collapsed": false,
    "pycharm": {
     "name": "#%% md\n"
    }
   }
  },
  {
   "cell_type": "code",
   "source": [
    "str_sfx={'allee': 'aly','alley': 'aly','ally': 'aly','aly': 'aly','anex': 'anx','annex': 'anx','annx': 'anx','anx': 'anx','arc': 'arc','arcade': 'arc','av': 'ave','ave': 'ave','aven': 'ave','avenu': 'ave','avenue': 'ave','avn': 'ave','avnue': 'ave','bayoo': 'byu','bayou': 'byu','bch': 'bch','beach': 'bch','bend': 'bnd','bnd': 'bnd','blf': 'blf','bluf': 'blf','bluff': 'blf','bluffs': 'blfs','bot': 'btm','btm': 'btm','bottm': 'btm','bottom': 'btm','blvd': 'blvd','boul': 'blvd','boulevard': 'blvd','boulv': 'blvd','br': 'br','brnch': 'br','branch': 'br','brdge': 'brg','brg': 'brg','bridge': 'brg','brk': 'brk','brook': 'brk','brooks': 'brks','burg': 'bg','burgs': 'bgs','byp': 'byp','bypa': 'byp','bypas': 'byp','bypass': 'byp','byps': 'byp','camp': 'cp','cp': 'cp','cmp': 'cp','canyn': 'cyn','canyon': 'cyn','cnyn': 'cyn','cape': 'cpe','cpe': 'cpe','causeway': 'cswy','causwa': 'cswy','cswy': 'cswy','cen': 'ctr','cent': 'ctr','center': 'ctr','centr': 'ctr','centre': 'ctr','cnter': 'ctr','cntr': 'ctr','ctr': 'ctr','centers': 'ctrs','cir': 'cir','circ': 'cir','circl': 'cir','circle': 'cir','crcl': 'cir','crcle': 'cir','circles': 'cirs','clf': 'clf','cliff': 'clf','clfs': 'clfs','cliffs': 'clfs','clb': 'clb','club': 'clb','common': 'cmn','commons': 'cmns','cor': 'cor','corner': 'cor','corners': 'cors','cors': 'cors','course': 'crse','crse': 'crse','court': 'ct','ct': 'ct','courts': 'cts','cts': 'cts','cove': 'cv','cv': 'cv','coves': 'cvs','creek': 'crk','crk': 'crk','crescent': 'cres','cres': 'cres','crsent': 'cres','crsnt': 'cres','crest': 'crst','crossing': 'xing','crssng': 'xing','xing': 'xing','crossroad': 'xrd','crossroads': 'xrds','curve': 'curv','dale': 'dl','dl': 'dl','dam': 'dm','dm': 'dm','div': 'dv','divide': 'dv','dv': 'dv','dvd': 'dv','dr': 'dr','driv': 'dr','drive': 'dr','drv': 'dr','drives': 'drs','est': 'est','estate': 'est','estates': 'ests','ests': 'ests','exp': 'expy','expr': 'expy','express': 'expy','expressway': 'expy','expw': 'expy','expy': 'expy','ext': 'ext','extension': 'ext','extn': 'ext','extnsn': 'ext','exts': 'exts','fall': 'fall','falls': 'fls','fls': 'fls','ferry': 'fry','frry': 'fry','fry': 'fry','field': 'fld','fld': 'fld','fields': 'flds','flds': 'flds','flat': 'flt','flt': 'flt','flats': 'flts','flts': 'flts','ford': 'frd','frd': 'frd','fords': 'frds','forest': 'frst','forests': 'frst','frst': 'frst','forg': 'frg','forge': 'frg','frg': 'frg','forges': 'frgs','fork': 'frk','frk': 'frk','forks': 'frks','frks': 'frks','fort': 'ft','frt': 'ft','ft': 'ft','freeway': 'fwy','freewy': 'fwy','frway': 'fwy','frwy': 'fwy','fwy': 'fwy','garden': 'gdn','gardn': 'gdn','grden': 'gdn','grdn': 'gdn','gardens': 'gdns','gdns': 'gdns','grdns': 'gdns','gateway': 'gtwy','gatewy': 'gtwy','gatway': 'gtwy','gtway': 'gtwy','gtwy': 'gtwy','glen': 'gln','gln': 'gln','glens': 'glns','green': 'grn','grn': 'grn','greens': 'grns','grov': 'grv','grove': 'grv','grv': 'grv','groves': 'grvs','harb': 'hbr','harbor': 'hbr','harbr': 'hbr','hbr': 'hbr','hrbor': 'hbr','harbors': 'hbrs','haven': 'hvn','hvn': 'hvn','ht': 'hts','hts': 'hts','highway': 'hwy','highwy': 'hwy','hiway': 'hwy','hiwy': 'hwy','hway': 'hwy','hwy': 'hwy','hill': 'hl','hl': 'hl','hills': 'hls','hls': 'hls','hllw': 'holw','hollow': 'holw','hollows': 'holw','holw': 'holw','holws': 'holw','inlt': 'inlt','is': 'is','island': 'is','islnd': 'is','islands': 'iss','islnds': 'iss','iss': 'iss','isle': 'isle','isles': 'isle','jct': 'jct','jction': 'jct','jctn': 'jct','junction': 'jct','junctn': 'jct','juncton': 'jct','jctns': 'jcts','jcts': 'jcts','junctions': 'jcts','key': 'ky','ky': 'ky','keys': 'kys','kys': 'kys','knl': 'knl','knol': 'knl','knoll': 'knl','knls': 'knls','knolls': 'knls','lk': 'lk','lake': 'lk','lks': 'lks','lakes': 'lks','land': 'land','landing': 'lndg','lndg': 'lndg','lndng': 'lndg','lane': 'ln','ln': 'ln','lgt': 'lgt','light': 'lgt','lights': 'lgts','lf': 'lf','loaf': 'lf','lck': 'lck','lock': 'lck','lcks': 'lcks','locks': 'lcks','ldg': 'ldg','ldge': 'ldg','lodg': 'ldg','lodge': 'ldg','loop': 'loop','loops': 'loop','mall': 'mall','mnr': 'mnr','manor': 'mnr','manors': 'mnrs','mnrs': 'mnrs','meadow': 'mdw','mdw': 'mdws','mdws': 'mdws','meadows': 'mdws','medows': 'mdws','mews': 'mews','mill': 'ml','mills': 'mls','missn': 'msn','mssn': 'msn','motorway': 'mtwy','mnt': 'mt','mt': 'mt','mount': 'mt','mntain': 'mtn','mntn': 'mtn','mountain': 'mtn','mountin': 'mtn','mtin': 'mtn','mtn': 'mtn','mntns': 'mtns','mountains': 'mtns','nck': 'nck','neck': 'nck','orch': 'orch','orchard': 'orch','orchrd': 'orch','oval': 'oval','ovl': 'oval','overpass': 'opas','park': 'park','prk': 'park','parks': 'park','parkway': 'pkwy','parkwy': 'pkwy','pkway': 'pkwy','pkwy': 'pkwy','pky': 'pkwy','parkways': 'pkwy','pkwys': 'pkwy','pass': 'pass','passage': 'psge','path': 'path','paths': 'path','pike': 'pike','pikes': 'pike','pine': 'pne','pines': 'pnes','pnes': 'pnes','pl': 'pl','plain': 'pln','pln': 'pln','plains': 'plns','plns': 'plns','plaza': 'plz','plz': 'plz','plza': 'plz','point': 'pt','pt': 'pt','points': 'pts','pts': 'pts','port': 'prt','prt': 'prt','ports': 'prts','prts': 'prts','pr': 'pr','prairie': 'pr','prr': 'pr','rad': 'radl','radial': 'radl','radiel': 'radl','radl': 'radl','ramp': 'ramp','ranch': 'rnch','ranches': 'rnch','rnch': 'rnch','rnchs': 'rnch','rapid': 'rpd','rpd': 'rpd','rapids': 'rpds','rpds': 'rpds','rest': 'rst','rst': 'rst','rdg': 'rdg','rdge': 'rdg','ridge': 'rdg','rdgs': 'rdgs','ridges': 'rdgs','riv': 'riv','river': 'riv','rvr': 'riv','rivr': 'riv','rd': 'rd','road': 'rd','roads': 'rds','rds': 'rds','route': 'rte','row': 'row','rue': 'rue','run': 'run','shl': 'shl','shoal': 'shl','shls': 'shls','shoals': 'shls','shoar': 'shr','shore': 'shr','shr': 'shr','shoars': 'shrs','shores': 'shrs','shrs': 'shrs','skyway': 'skwy','spg': 'spg','spng': 'spg','spring': 'spg','sprng': 'spg','spgs': 'spgs','spngs': 'spgs','springs': 'spgs','sprngs': 'spgs','spur': 'spur','spurs': 'spur','sq': 'sq','sqr': 'sq','sqre': 'sq','squ': 'sq','square': 'sq','sqrs': 'sqs','squares': 'sqs','sta': 'sta','station': 'sta','statn': 'sta','stn': 'sta','stra': 'stra','strav': 'stra','straven': 'stra','stravenue': 'stra','stravn': 'stra','strvn': 'stra','strvnue': 'stra','stream': 'strm','streme': 'strm','strm': 'strm','street': 'st','strt': 'st','st': 'st','str': 'st','streets': 'sts','smt': 'smt','sumit': 'smt','sumitt': 'smt','summit': 'smt','ter': 'ter','terr': 'ter','terrace': 'ter','throughway': 'trwy','trace': 'trce','traces': 'trce','trce': 'trce','track': 'trak','tracks': 'trak','trak': 'trak','trk': 'trak','trks': 'trak','trafficway': 'trfy','trail': 'trl','trails': 'trl','trl': 'trl','trls': 'trl','trailer': 'trlr','trlr': 'trlr','trlrs': 'trlr','tunel': 'tunl','tunl': 'tunl','tunls': 'tunl','tunnel': 'tunl','tunnels': 'tunl','tunnl': 'tunl','trnpk': 'tpke','turnpike': 'tpke','turnpk': 'tpke','underpass': 'upas','un': 'un','union': 'un','unions': 'uns','valley': 'vly','vally': 'vly','vlly': 'vly','vly': 'vly','valleys': 'vlys','vlys': 'vlys','vdct': 'via','via': 'via','viadct': 'via','viaduct': 'via','view': 'vw','vw': 'vw','views': 'vws','vws': 'vws','vill': 'vlg','villag': 'vlg','village': 'vlg','villg': 'vlg','villiage': 'vlg','vlg': 'vlg','villages': 'vlgs','vlgs': 'vlgs','ville': 'vl','vl': 'vl','vis': 'vis','vist': 'vis','vista': 'vis','vst': 'vis','vsta': 'vis','walk': 'walk','walks': 'walk','wall': 'wall','wy': 'way','way': 'way','ways': 'ways','well': 'wl','wells': 'wls','wls': 'wls'}"
   ],
   "metadata": {
    "collapsed": false,
    "pycharm": {
     "name": "#%%\n"
    }
   },
   "execution_count": 303,
   "outputs": []
  },
  {
   "cell_type": "markdown",
   "source": [
    "### Before suffix cleanup"
   ],
   "metadata": {
    "collapsed": false,
    "pycharm": {
     "name": "#%% md\n"
    }
   }
  },
  {
   "cell_type": "code",
   "source": [
    "fm_subset.StreetNameSuffix.value_counts()"
   ],
   "metadata": {
    "collapsed": false,
    "pycharm": {
     "name": "#%%\n"
    }
   },
   "execution_count": 285,
   "outputs": [
    {
     "data": {
      "text/plain": "street           1792\nst               1013\nave               627\nroad              568\navenue            436\n                 ... \ntrl                 1\nlodge               1\ndrives              1\nriver               1\nriver highway       1\nName: StreetNameSuffix, Length: 94, dtype: int64"
     },
     "execution_count": 285,
     "metadata": {},
     "output_type": "execute_result"
    }
   ]
  },
  {
   "cell_type": "code",
   "execution_count": 304,
   "outputs": [],
   "source": [
    "fm_subset.replace({'StreetNameSuffix':str_sfx},inplace=True)"
   ],
   "metadata": {
    "collapsed": false,
    "pycharm": {
     "name": "#%%\n"
    }
   }
  },
  {
   "cell_type": "markdown",
   "source": [
    "### After Cleanup"
   ],
   "metadata": {
    "collapsed": false,
    "pycharm": {
     "name": "#%% md\n"
    }
   }
  },
  {
   "cell_type": "code",
   "source": [
    "fm_subset['StreetNameSuffix'].value_counts()"
   ],
   "metadata": {
    "collapsed": false,
    "pycharm": {
     "name": "#%%\n"
    }
   },
   "execution_count": 287,
   "outputs": [
    {
     "data": {
      "text/plain": "st               2807\nave              1068\nrd                906\ndr                321\nblvd              257\n                 ... \nat                  1\nldg                 1\ndrs                 1\nriv                 1\nriver highway       1\nName: StreetNameSuffix, Length: 74, dtype: int64"
     },
     "execution_count": 287,
     "metadata": {},
     "output_type": "execute_result"
    }
   ]
  },
  {
   "cell_type": "markdown",
   "source": [
    "## Street Name direction\n",
    "### Before Cleanup"
   ],
   "metadata": {
    "collapsed": false,
    "pycharm": {
     "name": "#%% md\n"
    }
   }
  },
  {
   "cell_type": "code",
   "source": [
    "fm_subset.StreetNamePreDirectional.value_counts()"
   ],
   "metadata": {
    "collapsed": false,
    "pycharm": {
     "name": "#%%\n"
    }
   },
   "execution_count": 305,
   "outputs": [
    {
     "data": {
      "text/plain": "n            310\ns            292\ne            259\nw            258\nsouth        195\neast         174\nnorth        172\nwest         171\nne            35\nsw            33\nse            18\nnw            15\nso             3\nave            2\nsoutheast      2\nnortheast      2\nnorthwest      2\nto             1\nsouthwest      1\nof             1\nName: StreetNamePreDirectional, dtype: int64"
     },
     "execution_count": 305,
     "metadata": {},
     "output_type": "execute_result"
    }
   ]
  },
  {
   "cell_type": "code",
   "execution_count": 289,
   "outputs": [],
   "source": [
    "dir_suffix={'n':\"north\",'s':'south','e':'east','w':'west','ne':'northeast','se':'southeast','nw':\"northwest\",'sw':'southwest'}"
   ],
   "metadata": {
    "collapsed": false,
    "pycharm": {
     "name": "#%%\n"
    }
   }
  },
  {
   "cell_type": "code",
   "execution_count": 307,
   "outputs": [],
   "source": [
    "fm_subset.replace({'StreetNamePreDirectional':dir_suffix},inplace=True)"
   ],
   "metadata": {
    "collapsed": false,
    "pycharm": {
     "name": "#%%\n"
    }
   }
  },
  {
   "cell_type": "markdown",
   "source": [
    "### After Cleanup"
   ],
   "metadata": {
    "collapsed": false,
    "pycharm": {
     "name": "#%% md\n"
    }
   }
  },
  {
   "cell_type": "code",
   "source": [
    "fm_subset.StreetNamePreDirectional.value_counts()"
   ],
   "metadata": {
    "collapsed": false,
    "pycharm": {
     "name": "#%%\n"
    }
   },
   "execution_count": 306,
   "outputs": [
    {
     "data": {
      "text/plain": "n            310\ns            292\ne            259\nw            258\nsouth        195\neast         174\nnorth        172\nwest         171\nne            35\nsw            33\nse            18\nnw            15\nso             3\nave            2\nsoutheast      2\nnortheast      2\nnorthwest      2\nto             1\nsouthwest      1\nof             1\nName: StreetNamePreDirectional, dtype: int64"
     },
     "execution_count": 306,
     "metadata": {},
     "output_type": "execute_result"
    }
   ]
  },
  {
   "cell_type": "markdown",
   "source": [
    "## Join Columns and remove multiple spaces"
   ],
   "metadata": {
    "collapsed": false,
    "pycharm": {
     "name": "#%% md\n"
    }
   }
  },
  {
   "cell_type": "code",
   "execution_count": 308,
   "outputs": [],
   "source": [
    "fm_subset['street']=fm_subset[['AddressNumber',\n",
    "       'PlaceName', 'StateName', 'StreetName', 'StreetNamePreDirectional',\n",
    "       'StreetNamePostDirectional', 'ZipCode', 'StreetNamePrefix',\n",
    "       'StreetNameSuffix', 'USPSBox', 'OccupancySuite']].fillna('').astype(str).apply(lambda x: re.sub('\\s+',' ',' '.join(x)).strip(), axis=1)"
   ],
   "metadata": {
    "collapsed": false,
    "pycharm": {
     "name": "#%%\n"
    }
   }
  },
  {
   "cell_type": "code",
   "execution_count": 309,
   "outputs": [],
   "source": [
    "fm_subset.drop(['AddressNumber',\n",
    "       'PlaceName', 'StateName', 'StreetName', 'StreetNamePreDirectional',\n",
    "       'StreetNamePostDirectional', 'ZipCode', 'StreetNamePrefix',\n",
    "       'StreetNameSuffix', 'USPSBox', 'OccupancySuite'],axis=1,inplace=True)"
   ],
   "metadata": {
    "collapsed": false,
    "pycharm": {
     "name": "#%%\n"
    }
   }
  },
  {
   "cell_type": "code",
   "execution_count": 294,
   "outputs": [
    {
     "data": {
      "text/plain": "      FMID                                           Facebook Twitter Youtube  \\\n0  1012063  https://www.facebook.com/Danville.VT.Farmers.M...     NaN     NaN   \n1  1011871                                                NaN     NaN     NaN   \n2  1011878    https://www.facebook.com/100MileMarket/?fref=ts     NaN     NaN   \n3  1009364                                                NaN     NaN     NaN   \n4  1010691                                                NaN     NaN     NaN   \n\n                                             Website  has_social_media  \\\n0  https://sites.google.com/site/caledoniafarmers...              True   \n1                        http://Stearnshomestead.com              True   \n2                          http://www.pfcmarkets.com              True   \n3             http://thetownofsixmile.wordpress.com/              True   \n4                                                NaN              True   \n\n        city           State             street     County  ...  Flowers  \\\n0  Danville          Vermont                     Caledonia  ...        Y   \n1     Parma             Ohio      6975 ridge rd   Cuyahoga  ...        Y   \n2  Kalamazoo        Michigan    507 harrison st  Kalamazoo  ...        Y   \n3   Six Mile  South Carolina  106 main south st        NaN  ...      NaN   \n4     Lamar         Missouri            10th st     Barton  ...        N   \n\n   Vegetables Meat Nursery Wine Coffee Fruits PetFood WildHarvested  \\\n0           Y    Y       N    N      Y      Y       Y             N   \n1           Y    Y       N    N      N      Y       Y             N   \n2           Y    Y       N    N      N      Y       N             N   \n3         NaN  NaN     NaN  NaN    NaN    NaN     NaN           NaN   \n4           Y    Y       N    N      N      Y       N             N   \n\n           updateTime  \n0 2016-06-28 12:10:09  \n1 2016-04-09 20:05:17  \n2 2016-07-15 19:20:33  \n3 2013-01-01 00:00:00  \n4 2014-10-28 09:49:46  \n\n[5 rows x 27 columns]",
      "text/html": "<div>\n<style scoped>\n    .dataframe tbody tr th:only-of-type {\n        vertical-align: middle;\n    }\n\n    .dataframe tbody tr th {\n        vertical-align: top;\n    }\n\n    .dataframe thead th {\n        text-align: right;\n    }\n</style>\n<table border=\"1\" class=\"dataframe\">\n  <thead>\n    <tr style=\"text-align: right;\">\n      <th></th>\n      <th>FMID</th>\n      <th>Facebook</th>\n      <th>Twitter</th>\n      <th>Youtube</th>\n      <th>Website</th>\n      <th>has_social_media</th>\n      <th>city</th>\n      <th>State</th>\n      <th>street</th>\n      <th>County</th>\n      <th>...</th>\n      <th>Flowers</th>\n      <th>Vegetables</th>\n      <th>Meat</th>\n      <th>Nursery</th>\n      <th>Wine</th>\n      <th>Coffee</th>\n      <th>Fruits</th>\n      <th>PetFood</th>\n      <th>WildHarvested</th>\n      <th>updateTime</th>\n    </tr>\n  </thead>\n  <tbody>\n    <tr>\n      <th>0</th>\n      <td>1012063</td>\n      <td>https://www.facebook.com/Danville.VT.Farmers.M...</td>\n      <td>NaN</td>\n      <td>NaN</td>\n      <td>https://sites.google.com/site/caledoniafarmers...</td>\n      <td>True</td>\n      <td>Danville</td>\n      <td>Vermont</td>\n      <td></td>\n      <td>Caledonia</td>\n      <td>...</td>\n      <td>Y</td>\n      <td>Y</td>\n      <td>Y</td>\n      <td>N</td>\n      <td>N</td>\n      <td>Y</td>\n      <td>Y</td>\n      <td>Y</td>\n      <td>N</td>\n      <td>2016-06-28 12:10:09</td>\n    </tr>\n    <tr>\n      <th>1</th>\n      <td>1011871</td>\n      <td>NaN</td>\n      <td>NaN</td>\n      <td>NaN</td>\n      <td>http://Stearnshomestead.com</td>\n      <td>True</td>\n      <td>Parma</td>\n      <td>Ohio</td>\n      <td>6975 ridge rd</td>\n      <td>Cuyahoga</td>\n      <td>...</td>\n      <td>Y</td>\n      <td>Y</td>\n      <td>Y</td>\n      <td>N</td>\n      <td>N</td>\n      <td>N</td>\n      <td>Y</td>\n      <td>Y</td>\n      <td>N</td>\n      <td>2016-04-09 20:05:17</td>\n    </tr>\n    <tr>\n      <th>2</th>\n      <td>1011878</td>\n      <td>https://www.facebook.com/100MileMarket/?fref=ts</td>\n      <td>NaN</td>\n      <td>NaN</td>\n      <td>http://www.pfcmarkets.com</td>\n      <td>True</td>\n      <td>Kalamazoo</td>\n      <td>Michigan</td>\n      <td>507 harrison st</td>\n      <td>Kalamazoo</td>\n      <td>...</td>\n      <td>Y</td>\n      <td>Y</td>\n      <td>Y</td>\n      <td>N</td>\n      <td>N</td>\n      <td>N</td>\n      <td>Y</td>\n      <td>N</td>\n      <td>N</td>\n      <td>2016-07-15 19:20:33</td>\n    </tr>\n    <tr>\n      <th>3</th>\n      <td>1009364</td>\n      <td>NaN</td>\n      <td>NaN</td>\n      <td>NaN</td>\n      <td>http://thetownofsixmile.wordpress.com/</td>\n      <td>True</td>\n      <td>Six Mile</td>\n      <td>South Carolina</td>\n      <td>106 main south st</td>\n      <td>NaN</td>\n      <td>...</td>\n      <td>NaN</td>\n      <td>NaN</td>\n      <td>NaN</td>\n      <td>NaN</td>\n      <td>NaN</td>\n      <td>NaN</td>\n      <td>NaN</td>\n      <td>NaN</td>\n      <td>NaN</td>\n      <td>2013-01-01 00:00:00</td>\n    </tr>\n    <tr>\n      <th>4</th>\n      <td>1010691</td>\n      <td>NaN</td>\n      <td>NaN</td>\n      <td>NaN</td>\n      <td>NaN</td>\n      <td>True</td>\n      <td>Lamar</td>\n      <td>Missouri</td>\n      <td>10th st</td>\n      <td>Barton</td>\n      <td>...</td>\n      <td>N</td>\n      <td>Y</td>\n      <td>Y</td>\n      <td>N</td>\n      <td>N</td>\n      <td>N</td>\n      <td>Y</td>\n      <td>N</td>\n      <td>N</td>\n      <td>2014-10-28 09:49:46</td>\n    </tr>\n  </tbody>\n</table>\n<p>5 rows × 27 columns</p>\n</div>"
     },
     "execution_count": 294,
     "metadata": {},
     "output_type": "execute_result"
    }
   ],
   "source": [
    "fm_subset.head()"
   ],
   "metadata": {
    "collapsed": false,
    "pycharm": {
     "name": "#%%\n"
    }
   }
  },
  {
   "cell_type": "markdown",
   "source": [
    "## Market Name Cleanup\n",
    "### Cleanup alpha Numeric Texts"
   ],
   "metadata": {
    "collapsed": false,
    "pycharm": {
     "name": "#%% md\n"
    }
   }
  },
  {
   "cell_type": "code",
   "execution_count": 316,
   "outputs": [],
   "source": [
    "fm_subset['MarketName'] = fm_subset['MarketName'].apply(lambda x: re.sub('[^a-zA-Z\\d\\s:]', '', x))"
   ],
   "metadata": {
    "collapsed": false,
    "pycharm": {
     "name": "#%%\n"
    }
   }
  },
  {
   "cell_type": "markdown",
   "source": [
    "### Remove Farmers Market from Name if Name is already more than 3 words"
   ],
   "metadata": {
    "collapsed": false,
    "pycharm": {
     "name": "#%% md\n"
    }
   }
  },
  {
   "cell_type": "code",
   "execution_count": null,
   "outputs": [],
   "source": [
    "def market_name_subs(fm):\n",
    "    words = fm.split('\\s')\n",
    "    if len(words ) >3:\n",
    "        return re.sub(\"((Farm)|Farmer)|(market)\",'',fm,re.IGNORECASE)\n",
    "    else:\n",
    "        return fm\n"
   ],
   "metadata": {
    "collapsed": false,
    "pycharm": {
     "name": "#%%\n"
    }
   }
  },
  {
   "cell_type": "code",
   "execution_count": 311,
   "outputs": [],
   "source": [
    "fm_subset.to_csv('dataset/fm_0716.csv')"
   ],
   "metadata": {
    "collapsed": false,
    "pycharm": {
     "name": "#%%\n"
    }
   }
  },
  {
   "cell_type": "code",
   "execution_count": 312,
   "outputs": [
    {
     "data": {
      "text/plain": "Index(['FMID', 'MarketName', 'Facebook', 'Twitter', 'Youtube', 'Website',\n       'has_social_media', 'city', 'State', 'street', 'County', 'x', 'y',\n       'Credit', 'WIC', 'WICcash', 'SFMNP', 'Organic', 'Flowers', 'Vegetables',\n       'Meat', 'Nursery', 'Wine', 'Coffee', 'Fruits', 'PetFood',\n       'WildHarvested', 'updateTime'],\n      dtype='object')"
     },
     "execution_count": 312,
     "metadata": {},
     "output_type": "execute_result"
    }
   ],
   "source": [
    "fm_subset.columns"
   ],
   "metadata": {
    "collapsed": false,
    "pycharm": {
     "name": "#%%\n"
    }
   }
  },
  {
   "cell_type": "code",
   "execution_count": 317,
   "outputs": [
    {
     "data": {
      "text/plain": "0        Caledonia Farmers Market Association  Danville\n1                      Stearns Homestead Farmers Market\n2                                       100 Mile Market\n3                      106 S Main Street Farmers Market\n4                   10th Steet Community Farmers Market\n                             ...                       \n8660                      Zia Bernalillo Farmers Market\n8661                           Zimmerman Farmers Market\n8662                         Zion Canyon Farmers Market\n8663                          Zionsville Farmers Market\n8664                           Zona Rosa Farmers Market\nName: MarketName, Length: 8636, dtype: object"
     },
     "execution_count": 317,
     "metadata": {},
     "output_type": "execute_result"
    }
   ],
   "source": [
    "fm_subset['MarketName']"
   ],
   "metadata": {
    "collapsed": false,
    "pycharm": {
     "name": "#%%\n"
    }
   }
  },
  {
   "cell_type": "code",
   "execution_count": null,
   "outputs": [],
   "source": [],
   "metadata": {
    "collapsed": false,
    "pycharm": {
     "name": "#%%\n"
    }
   }
  }
 ],
 "metadata": {
  "kernelspec": {
   "name": "python3",
   "language": "python",
   "display_name": "Python 3 (ipykernel)"
  },
  "language_info": {
   "codemirror_mode": {
    "name": "ipython",
    "version": 2
   },
   "file_extension": ".py",
   "mimetype": "text/x-python",
   "name": "python",
   "nbconvert_exporter": "python",
   "pygments_lexer": "ipython2",
   "version": "2.7.6"
  }
 },
 "nbformat": 4,
 "nbformat_minor": 0
}