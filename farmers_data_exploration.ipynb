{
 "cells": [
  {
   "cell_type": "code",
   "execution_count": 1,
   "metadata": {
    "collapsed": true,
    "pycharm": {
     "name": "#%%\n"
    }
   },
   "outputs": [],
   "source": [
    "%reload_ext sql\n",
    "import os"
   ]
  },
  {
   "cell_type": "code",
   "source": [
    "import sqlite3"
   ],
   "metadata": {
    "collapsed": false,
    "pycharm": {
     "name": "#%%\n"
    }
   },
   "execution_count": 2,
   "outputs": []
  },
  {
   "cell_type": "code",
   "execution_count": 3,
   "outputs": [],
   "source": [
    "survey_db_url = 'sqlite:////Users/reethsharma/git/cca/cs513_project/farmers_market.db'\n",
    "%sql $survey_db_url"
   ],
   "metadata": {
    "collapsed": false,
    "pycharm": {
     "name": "#%%\n"
    }
   }
  },
  {
   "cell_type": "code",
   "execution_count": null,
   "outputs": [],
   "source": [
    "%%sql\n",
    "SELECT * FROM farmers_market limit 10;"
   ],
   "metadata": {
    "collapsed": false,
    "pycharm": {
     "name": "#%%\n"
    }
   }
  },
  {
   "cell_type": "markdown",
   "source": [
    "### Next instructions are used to valdiate schema"
   ],
   "metadata": {
    "collapsed": false,
    "pycharm": {
     "name": "#%% md\n"
    }
   }
  },
  {
   "cell_type": "code",
   "execution_count": 7,
   "outputs": [
    {
     "name": "stdout",
     "output_type": "stream",
     "text": [
      "22/06/29 19:57:20 WARN Utils: Your hostname, Mac-mini.local resolves to a loopback address: 127.0.0.1; using 192.168.1.78 instead (on interface en1)\n",
      "22/06/29 19:57:20 WARN Utils: Set SPARK_LOCAL_IP if you need to bind to another address\n"
     ]
    },
    {
     "name": "stderr",
     "output_type": "stream",
     "text": [
      "Setting default log level to \"WARN\".\n",
      "To adjust logging level use sc.setLogLevel(newLevel). For SparkR, use setLogLevel(newLevel).\n"
     ]
    },
    {
     "name": "stdout",
     "output_type": "stream",
     "text": [
      "22/06/29 19:57:20 WARN NativeCodeLoader: Unable to load native-hadoop library for your platform... using builtin-java classes where applicable\n"
     ]
    }
   ],
   "source": [
    "from pyspark.sql import SparkSession\n",
    "\n",
    "# Create SparkSession\n",
    "spark = SparkSession.builder \\\n",
    "      .master(\"local[1]\") \\\n",
    "      .appName(\"test\") \\\n",
    "      .getOrCreate()"
   ],
   "metadata": {
    "collapsed": false,
    "pycharm": {
     "name": "#%%\n"
    }
   }
  },
  {
   "cell_type": "code",
   "execution_count": 22,
   "outputs": [],
   "source": [
    "df=spark.read.format(\"csv\").option(\"header\",\"true\").load(\"dataset/farmers_market.csv\",inferSchema = True)"
   ],
   "metadata": {
    "collapsed": false,
    "pycharm": {
     "name": "#%%\n"
    }
   }
  },
  {
   "cell_type": "code",
   "execution_count": 20,
   "outputs": [
    {
     "ename": "AnalysisException",
     "evalue": "Temporary view 'test' already exists",
     "output_type": "error",
     "traceback": [
      "\u001B[0;31m---------------------------------------------------------------------------\u001B[0m",
      "\u001B[0;31mAnalysisException\u001B[0m                         Traceback (most recent call last)",
      "Input \u001B[0;32mIn [20]\u001B[0m, in \u001B[0;36m<cell line: 1>\u001B[0;34m()\u001B[0m\n\u001B[0;32m----> 1\u001B[0m \u001B[43mdf\u001B[49m\u001B[38;5;241;43m.\u001B[39;49m\u001B[43mcreateTempView\u001B[49m\u001B[43m(\u001B[49m\u001B[38;5;124;43m\"\u001B[39;49m\u001B[38;5;124;43mtest\u001B[39;49m\u001B[38;5;124;43m\"\u001B[39;49m\u001B[43m)\u001B[49m\n",
      "File \u001B[0;32m/Library/Frameworks/Python.framework/Versions/3.8/lib/python3.8/site-packages/pyspark/sql/dataframe.py:256\u001B[0m, in \u001B[0;36mDataFrame.createTempView\u001B[0;34m(self, name)\u001B[0m\n\u001B[1;32m    232\u001B[0m \u001B[38;5;28;01mdef\u001B[39;00m \u001B[38;5;21mcreateTempView\u001B[39m(\u001B[38;5;28mself\u001B[39m, name: \u001B[38;5;28mstr\u001B[39m) \u001B[38;5;241m-\u001B[39m\u001B[38;5;241m>\u001B[39m \u001B[38;5;28;01mNone\u001B[39;00m:\n\u001B[1;32m    233\u001B[0m     \u001B[38;5;124;03m\"\"\"Creates a local temporary view with this :class:`DataFrame`.\u001B[39;00m\n\u001B[1;32m    234\u001B[0m \n\u001B[1;32m    235\u001B[0m \u001B[38;5;124;03m    The lifetime of this temporary table is tied to the :class:`SparkSession`\u001B[39;00m\n\u001B[0;32m   (...)\u001B[0m\n\u001B[1;32m    254\u001B[0m \n\u001B[1;32m    255\u001B[0m \u001B[38;5;124;03m    \"\"\"\u001B[39;00m\n\u001B[0;32m--> 256\u001B[0m     \u001B[38;5;28;43mself\u001B[39;49m\u001B[38;5;241;43m.\u001B[39;49m\u001B[43m_jdf\u001B[49m\u001B[38;5;241;43m.\u001B[39;49m\u001B[43mcreateTempView\u001B[49m\u001B[43m(\u001B[49m\u001B[43mname\u001B[49m\u001B[43m)\u001B[49m\n",
      "File \u001B[0;32m/Library/Frameworks/Python.framework/Versions/3.8/lib/python3.8/site-packages/py4j/java_gateway.py:1321\u001B[0m, in \u001B[0;36mJavaMember.__call__\u001B[0;34m(self, *args)\u001B[0m\n\u001B[1;32m   1315\u001B[0m command \u001B[38;5;241m=\u001B[39m proto\u001B[38;5;241m.\u001B[39mCALL_COMMAND_NAME \u001B[38;5;241m+\u001B[39m\\\n\u001B[1;32m   1316\u001B[0m     \u001B[38;5;28mself\u001B[39m\u001B[38;5;241m.\u001B[39mcommand_header \u001B[38;5;241m+\u001B[39m\\\n\u001B[1;32m   1317\u001B[0m     args_command \u001B[38;5;241m+\u001B[39m\\\n\u001B[1;32m   1318\u001B[0m     proto\u001B[38;5;241m.\u001B[39mEND_COMMAND_PART\n\u001B[1;32m   1320\u001B[0m answer \u001B[38;5;241m=\u001B[39m \u001B[38;5;28mself\u001B[39m\u001B[38;5;241m.\u001B[39mgateway_client\u001B[38;5;241m.\u001B[39msend_command(command)\n\u001B[0;32m-> 1321\u001B[0m return_value \u001B[38;5;241m=\u001B[39m \u001B[43mget_return_value\u001B[49m\u001B[43m(\u001B[49m\n\u001B[1;32m   1322\u001B[0m \u001B[43m    \u001B[49m\u001B[43manswer\u001B[49m\u001B[43m,\u001B[49m\u001B[43m \u001B[49m\u001B[38;5;28;43mself\u001B[39;49m\u001B[38;5;241;43m.\u001B[39;49m\u001B[43mgateway_client\u001B[49m\u001B[43m,\u001B[49m\u001B[43m \u001B[49m\u001B[38;5;28;43mself\u001B[39;49m\u001B[38;5;241;43m.\u001B[39;49m\u001B[43mtarget_id\u001B[49m\u001B[43m,\u001B[49m\u001B[43m \u001B[49m\u001B[38;5;28;43mself\u001B[39;49m\u001B[38;5;241;43m.\u001B[39;49m\u001B[43mname\u001B[49m\u001B[43m)\u001B[49m\n\u001B[1;32m   1324\u001B[0m \u001B[38;5;28;01mfor\u001B[39;00m temp_arg \u001B[38;5;129;01min\u001B[39;00m temp_args:\n\u001B[1;32m   1325\u001B[0m     temp_arg\u001B[38;5;241m.\u001B[39m_detach()\n",
      "File \u001B[0;32m/Library/Frameworks/Python.framework/Versions/3.8/lib/python3.8/site-packages/pyspark/sql/utils.py:196\u001B[0m, in \u001B[0;36mcapture_sql_exception.<locals>.deco\u001B[0;34m(*a, **kw)\u001B[0m\n\u001B[1;32m    192\u001B[0m converted \u001B[38;5;241m=\u001B[39m convert_exception(e\u001B[38;5;241m.\u001B[39mjava_exception)\n\u001B[1;32m    193\u001B[0m \u001B[38;5;28;01mif\u001B[39;00m \u001B[38;5;129;01mnot\u001B[39;00m \u001B[38;5;28misinstance\u001B[39m(converted, UnknownException):\n\u001B[1;32m    194\u001B[0m     \u001B[38;5;66;03m# Hide where the exception came from that shows a non-Pythonic\u001B[39;00m\n\u001B[1;32m    195\u001B[0m     \u001B[38;5;66;03m# JVM exception message.\u001B[39;00m\n\u001B[0;32m--> 196\u001B[0m     \u001B[38;5;28;01mraise\u001B[39;00m converted \u001B[38;5;28;01mfrom\u001B[39;00m \u001B[38;5;28mNone\u001B[39m\n\u001B[1;32m    197\u001B[0m \u001B[38;5;28;01melse\u001B[39;00m:\n\u001B[1;32m    198\u001B[0m     \u001B[38;5;28;01mraise\u001B[39;00m\n",
      "\u001B[0;31mAnalysisException\u001B[0m: Temporary view 'test' already exists"
     ]
    }
   ],
   "source": [
    "df.createTempView(\"test\")"
   ],
   "metadata": {
    "collapsed": false,
    "pycharm": {
     "name": "#%%\n"
    }
   }
  },
  {
   "cell_type": "code",
   "execution_count": 11,
   "outputs": [
    {
     "name": "stdout",
     "output_type": "stream",
     "text": [
      "+--------+\n",
      "|count(1)|\n",
      "+--------+\n",
      "|    8665|\n",
      "+--------+\n",
      "\n"
     ]
    }
   ],
   "source": [
    "spark.sql(\"select count(*) from test\").show()"
   ],
   "metadata": {
    "collapsed": false,
    "pycharm": {
     "name": "#%%\n"
    }
   }
  },
  {
   "cell_type": "code",
   "execution_count": 13,
   "outputs": [
    {
     "data": {
      "text/plain": "Row(FMID='1012063', MarketName=' Caledonia Farmers Market Association - Danville', Website='https://sites.google.com/site/caledoniafarmersmarket/', Facebook='https://www.facebook.com/Danville.VT.Farmers.Market/', Twitter=None, Youtube=None, OtherMedia=None, street=None, city='Danville ', County='Caledonia', State='Vermont', zip='05828', Season1Date='06/08/2016 to 10/12/2016', Season1Time='Wed: 9:00 AM-1:00 PM;', Season2Date=None, Season2Time=None, Season3Date=None, Season3Time=None, Season4Date=None, Season4Time=None, x='-72.140305', y='44.411013', Location=None, Credit='Y', WIC='Y', WICcash='N', SFMNP='Y', SNAP='N', Organic='Y', Bakedgoods='Y', Cheese='Y', Crafts='Y', Flowers='Y', Eggs='Y', Seafood='N', Herbs='Y', Vegetables='Y', Honey='Y', Jams='Y', Maple='Y', Meat='Y', Nursery='N', Nuts='N', Plants='Y', Poultry='Y', Prepared='Y', Soap='Y', Trees='Y', Wine='N', Coffee='Y', Beans='Y', Fruits='Y', Grains='N', Juices='Y', Mushrooms='N', PetFood='Y', Tofu='N', WildHarvested='N', updateTime='6/28/2016 12:10:09 PM')"
     },
     "execution_count": 13,
     "metadata": {},
     "output_type": "execute_result"
    }
   ],
   "source": [
    "spark.sql(\"select * from test\").head()"
   ],
   "metadata": {
    "collapsed": false,
    "pycharm": {
     "name": "#%%\n"
    }
   }
  },
  {
   "cell_type": "code",
   "execution_count": 23,
   "outputs": [
    {
     "name": "stdout",
     "output_type": "stream",
     "text": [
      "root\n",
      " |-- FMID: integer (nullable = true)\n",
      " |-- MarketName: string (nullable = true)\n",
      " |-- Website: string (nullable = true)\n",
      " |-- Facebook: string (nullable = true)\n",
      " |-- Twitter: string (nullable = true)\n",
      " |-- Youtube: string (nullable = true)\n",
      " |-- OtherMedia: string (nullable = true)\n",
      " |-- street: string (nullable = true)\n",
      " |-- city: string (nullable = true)\n",
      " |-- County: string (nullable = true)\n",
      " |-- State: string (nullable = true)\n",
      " |-- zip: string (nullable = true)\n",
      " |-- Season1Date: string (nullable = true)\n",
      " |-- Season1Time: string (nullable = true)\n",
      " |-- Season2Date: string (nullable = true)\n",
      " |-- Season2Time: string (nullable = true)\n",
      " |-- Season3Date: string (nullable = true)\n",
      " |-- Season3Time: string (nullable = true)\n",
      " |-- Season4Date: string (nullable = true)\n",
      " |-- Season4Time: string (nullable = true)\n",
      " |-- x: double (nullable = true)\n",
      " |-- y: double (nullable = true)\n",
      " |-- Location: string (nullable = true)\n",
      " |-- Credit: integer (nullable = true)\n",
      " |-- WIC: integer (nullable = true)\n",
      " |-- WICcash: integer (nullable = true)\n",
      " |-- SFMNP: integer (nullable = true)\n",
      " |-- SNAP: integer (nullable = true)\n",
      " |-- Organic: integer (nullable = true)\n",
      " |-- Bakedgoods: integer (nullable = true)\n",
      " |-- Cheese: integer (nullable = true)\n",
      " |-- Crafts: integer (nullable = true)\n",
      " |-- Flowers: integer (nullable = true)\n",
      " |-- Eggs: integer (nullable = true)\n",
      " |-- Seafood: integer (nullable = true)\n",
      " |-- Herbs: integer (nullable = true)\n",
      " |-- Vegetables: integer (nullable = true)\n",
      " |-- Honey: integer (nullable = true)\n",
      " |-- Jams: integer (nullable = true)\n",
      " |-- Maple: integer (nullable = true)\n",
      " |-- Meat: integer (nullable = true)\n",
      " |-- Nursery: integer (nullable = true)\n",
      " |-- Nuts: integer (nullable = true)\n",
      " |-- Plants: integer (nullable = true)\n",
      " |-- Poultry: integer (nullable = true)\n",
      " |-- Prepared: integer (nullable = true)\n",
      " |-- Soap: integer (nullable = true)\n",
      " |-- Trees: integer (nullable = true)\n",
      " |-- Wine: integer (nullable = true)\n",
      " |-- Coffee: integer (nullable = true)\n",
      " |-- Beans: integer (nullable = true)\n",
      " |-- Fruits: integer (nullable = true)\n",
      " |-- Grains: integer (nullable = true)\n",
      " |-- Juices: integer (nullable = true)\n",
      " |-- Mushrooms: integer (nullable = true)\n",
      " |-- PetFood: integer (nullable = true)\n",
      " |-- Tofu: integer (nullable = true)\n",
      " |-- WildHarvested: integer (nullable = true)\n",
      " |-- updateTime: string (nullable = true)\n",
      "\n"
     ]
    }
   ],
   "source": [
    "df.printSchema()"
   ],
   "metadata": {
    "collapsed": false,
    "pycharm": {
     "name": "#%%\n"
    }
   }
  },
  {
   "cell_type": "code",
   "execution_count": 1,
   "outputs": [],
   "source": [
    "import pandas as pd"
   ],
   "metadata": {
    "collapsed": false,
    "pycharm": {
     "name": "#%%\n"
    }
   }
  },
  {
   "cell_type": "code",
   "execution_count": 2,
   "outputs": [
    {
     "data": {
      "text/plain": "FMID               int64\nMarketName        object\nWebsite           object\nFacebook          object\nTwitter           object\nYoutube           object\nOtherMedia        object\nstreet            object\ncity              object\nCounty            object\nState             object\nzip               object\nSeason1Date       object\nSeason1Time       object\nSeason2Date       object\nSeason2Time       object\nSeason3Date       object\nSeason3Time       object\nSeason4Date       object\nSeason4Time       object\nLAT              float64\nLON              float64\nLocation          object\nCredit             int64\nWIC                int64\nWICcash            int64\nSFMNP              int64\nSNAP               int64\nOrganic          float64\nBakedgoods       float64\nCheese           float64\nCrafts           float64\nFlowers          float64\nEggs             float64\nSeafood          float64\nHerbs            float64\nVegetables       float64\nHoney            float64\nJams             float64\nMaple            float64\nMeat             float64\nNursery          float64\nNuts             float64\nPlants           float64\nPoultry          float64\nPrepared         float64\nSoap             float64\nWine             float64\nCoffee           float64\nBeans            float64\nFruits           float64\nGrains           float64\nJuices           float64\nMushrooms        float64\nPetFood          float64\nTofu             float64\nWildHarvested    float64\nupdateTime        object\ndtype: object"
     },
     "execution_count": 2,
     "metadata": {},
     "output_type": "execute_result"
    }
   ],
   "source": [
    "df = pd.read_csv('dataset/main_farmers_market.csv')\n",
    "df.dtypes"
   ],
   "metadata": {
    "collapsed": false,
    "pycharm": {
     "name": "#%%\n"
    }
   }
  },
  {
   "cell_type": "markdown",
   "source": [
    "Data Analysis and cleaning using Pandas"
   ],
   "metadata": {
    "collapsed": false,
    "pycharm": {
     "name": "#%% md\n"
    }
   }
  },
  {
   "cell_type": "code",
   "execution_count": 3,
   "outputs": [
    {
     "data": {
      "text/plain": "FMID                      int64\nMarketName               object\nWebsite                  object\nFacebook                 object\nTwitter                  object\nYoutube                  object\nOtherMedia               object\nstreet                   object\ncity                     object\nCounty                   object\nState                    object\nzip                      object\nSeason1Date              object\nSeason1Time              object\nSeason2Date              object\nSeason2Time              object\nSeason3Date              object\nSeason3Time              object\nSeason4Date              object\nSeason4Time              object\nLAT                     float64\nLON                     float64\nLocation                 object\nCredit                    int64\nWIC                       int64\nWICcash                   int64\nSFMNP                     int64\nSNAP                      int64\nOrganic                 float64\nBakedgoods              float64\nCheese                  float64\nCrafts                  float64\nFlowers                 float64\nEggs                    float64\nSeafood                 float64\nHerbs                   float64\nVegetables              float64\nHoney                   float64\nJams                    float64\nMaple                   float64\nMeat                    float64\nNursery                 float64\nNuts                    float64\nPlants                  float64\nPoultry                 float64\nPrepared                float64\nSoap                    float64\nWine                    float64\nCoffee                  float64\nBeans                   float64\nFruits                  float64\nGrains                  float64\nJuices                  float64\nMushrooms               float64\nPetFood                 float64\nTofu                    float64\nWildHarvested           float64\nupdateTime       datetime64[ns]\ndtype: object"
     },
     "execution_count": 3,
     "metadata": {},
     "output_type": "execute_result"
    }
   ],
   "source": [
    "\"\"\" Date cleanup\n",
    "1990\n",
    "1990/01/01\n",
    "1990/mar/01\n",
    "Emoty to NaN\n",
    "\"\"\"\n",
    "df = df.apply(lambda col: pd.to_datetime(col, errors='ignore')\n",
    "              if col.dtypes == object\n",
    "              else col,\n",
    "              axis=0)\n",
    "\n",
    "df.dtypes"
   ],
   "metadata": {
    "collapsed": false,
    "pycharm": {
     "name": "#%%\n"
    }
   }
  },
  {
   "cell_type": "code",
   "execution_count": 8,
   "outputs": [
    {
     "data": {
      "text/plain": "      FMID                              MarketName  \\\n0  1000001            Shelby Food and Craft Market   \n1  1000003                   Edmore Farmers Market   \n2  1000006         Westwood Village Farmers Market   \n3  1000007  Santa Barbara La Cumbre Farmers Market   \n4  1000008                 Montrose Farmers Market   \n\n                                Website  \\\n0                                   NaN   \n1                 http://www.Edmore.org   \n2         http://www.westwoodonline.com   \n3        http://www.sbfarmersmarket.org   \n4  http://www.montrosefarmersmarket.com   \n\n                                         Facebook  \\\n0                                             NaN   \n1    https://www.facebook.com/EdmoreFarmersMarket   \n2                                             NaN   \n3                                             NaN   \n4  https://www.facebook.com/MontroseFarmersMarket   \n\n                            Twitter Youtube OtherMedia  \\\n0                               NaN     NaN        NaN   \n1  https://Twitter.com/edmoremarket     NaN        NaN   \n2                               NaN     NaN        NaN   \n3                               NaN     NaN        NaN   \n4                               NaN     NaN        NaN   \n\n                                   street           city         County  ...  \\\n0                          City Hall park         Shelby          Toole  ...   \n1  Corner of Lewis Street and Pine Street         Edmore       Montcalm  ...   \n2           Weyburn Ave. & Westwood Blvd.    Los Angeles    Los Angeles  ...   \n3                   110 South Hope Avenue  Santa Barbara  Santa Barbara  ...   \n4           Main St. and Uncompahgre Ave.       Montrose       Montrose  ...   \n\n  Coffee Beans Fruits Grains Juices Mushrooms PetFood Tofu WildHarvested  \\\n0    NaN   NaN    NaN    NaN    NaN       NaN     NaN  NaN           NaN   \n1    0.0   0.0    1.0    0.0    0.0       0.0     0.0  0.0           0.0   \n2    NaN   NaN    NaN    NaN    NaN       NaN     NaN  NaN           NaN   \n3    NaN   NaN    NaN    NaN    NaN       NaN     NaN  NaN           NaN   \n4    1.0   1.0    1.0    0.0    0.0       1.0     1.0  0.0           0.0   \n\n           updateTime  \n0 2009-01-01 00:00:00  \n1 2014-03-14 11:06:18  \n2 2009-01-01 00:00:00  \n3 2009-01-01 00:00:00  \n4 2016-06-27 13:22:54  \n\n[5 rows x 58 columns]",
      "text/html": "<div>\n<style scoped>\n    .dataframe tbody tr th:only-of-type {\n        vertical-align: middle;\n    }\n\n    .dataframe tbody tr th {\n        vertical-align: top;\n    }\n\n    .dataframe thead th {\n        text-align: right;\n    }\n</style>\n<table border=\"1\" class=\"dataframe\">\n  <thead>\n    <tr style=\"text-align: right;\">\n      <th></th>\n      <th>FMID</th>\n      <th>MarketName</th>\n      <th>Website</th>\n      <th>Facebook</th>\n      <th>Twitter</th>\n      <th>Youtube</th>\n      <th>OtherMedia</th>\n      <th>street</th>\n      <th>city</th>\n      <th>County</th>\n      <th>...</th>\n      <th>Coffee</th>\n      <th>Beans</th>\n      <th>Fruits</th>\n      <th>Grains</th>\n      <th>Juices</th>\n      <th>Mushrooms</th>\n      <th>PetFood</th>\n      <th>Tofu</th>\n      <th>WildHarvested</th>\n      <th>updateTime</th>\n    </tr>\n  </thead>\n  <tbody>\n    <tr>\n      <th>0</th>\n      <td>1000001</td>\n      <td>Shelby Food and Craft Market</td>\n      <td>NaN</td>\n      <td>NaN</td>\n      <td>NaN</td>\n      <td>NaN</td>\n      <td>NaN</td>\n      <td>City Hall park</td>\n      <td>Shelby</td>\n      <td>Toole</td>\n      <td>...</td>\n      <td>NaN</td>\n      <td>NaN</td>\n      <td>NaN</td>\n      <td>NaN</td>\n      <td>NaN</td>\n      <td>NaN</td>\n      <td>NaN</td>\n      <td>NaN</td>\n      <td>NaN</td>\n      <td>2009-01-01 00:00:00</td>\n    </tr>\n    <tr>\n      <th>1</th>\n      <td>1000003</td>\n      <td>Edmore Farmers Market</td>\n      <td>http://www.Edmore.org</td>\n      <td>https://www.facebook.com/EdmoreFarmersMarket</td>\n      <td>https://Twitter.com/edmoremarket</td>\n      <td>NaN</td>\n      <td>NaN</td>\n      <td>Corner of Lewis Street and Pine Street</td>\n      <td>Edmore</td>\n      <td>Montcalm</td>\n      <td>...</td>\n      <td>0.0</td>\n      <td>0.0</td>\n      <td>1.0</td>\n      <td>0.0</td>\n      <td>0.0</td>\n      <td>0.0</td>\n      <td>0.0</td>\n      <td>0.0</td>\n      <td>0.0</td>\n      <td>2014-03-14 11:06:18</td>\n    </tr>\n    <tr>\n      <th>2</th>\n      <td>1000006</td>\n      <td>Westwood Village Farmers Market</td>\n      <td>http://www.westwoodonline.com</td>\n      <td>NaN</td>\n      <td>NaN</td>\n      <td>NaN</td>\n      <td>NaN</td>\n      <td>Weyburn Ave. &amp; Westwood Blvd.</td>\n      <td>Los Angeles</td>\n      <td>Los Angeles</td>\n      <td>...</td>\n      <td>NaN</td>\n      <td>NaN</td>\n      <td>NaN</td>\n      <td>NaN</td>\n      <td>NaN</td>\n      <td>NaN</td>\n      <td>NaN</td>\n      <td>NaN</td>\n      <td>NaN</td>\n      <td>2009-01-01 00:00:00</td>\n    </tr>\n    <tr>\n      <th>3</th>\n      <td>1000007</td>\n      <td>Santa Barbara La Cumbre Farmers Market</td>\n      <td>http://www.sbfarmersmarket.org</td>\n      <td>NaN</td>\n      <td>NaN</td>\n      <td>NaN</td>\n      <td>NaN</td>\n      <td>110 South Hope Avenue</td>\n      <td>Santa Barbara</td>\n      <td>Santa Barbara</td>\n      <td>...</td>\n      <td>NaN</td>\n      <td>NaN</td>\n      <td>NaN</td>\n      <td>NaN</td>\n      <td>NaN</td>\n      <td>NaN</td>\n      <td>NaN</td>\n      <td>NaN</td>\n      <td>NaN</td>\n      <td>2009-01-01 00:00:00</td>\n    </tr>\n    <tr>\n      <th>4</th>\n      <td>1000008</td>\n      <td>Montrose Farmers Market</td>\n      <td>http://www.montrosefarmersmarket.com</td>\n      <td>https://www.facebook.com/MontroseFarmersMarket</td>\n      <td>NaN</td>\n      <td>NaN</td>\n      <td>NaN</td>\n      <td>Main St. and Uncompahgre Ave.</td>\n      <td>Montrose</td>\n      <td>Montrose</td>\n      <td>...</td>\n      <td>1.0</td>\n      <td>1.0</td>\n      <td>1.0</td>\n      <td>0.0</td>\n      <td>0.0</td>\n      <td>1.0</td>\n      <td>1.0</td>\n      <td>0.0</td>\n      <td>0.0</td>\n      <td>2016-06-27 13:22:54</td>\n    </tr>\n  </tbody>\n</table>\n<p>5 rows × 58 columns</p>\n</div>"
     },
     "execution_count": 8,
     "metadata": {},
     "output_type": "execute_result"
    }
   ],
   "source": [
    "df.head()"
   ],
   "metadata": {
    "collapsed": false,
    "pycharm": {
     "name": "#%%\n"
    }
   }
  },
  {
   "cell_type": "code",
   "execution_count": null,
   "outputs": [],
   "source": [],
   "metadata": {
    "collapsed": false,
    "pycharm": {
     "name": "#%%\n"
    }
   }
  },
  {
   "cell_type": "code",
   "execution_count": 5,
   "outputs": [],
   "source": [
    "#Change column datatypes to boolean\n",
    "df[df.columns[23:-1]]=df[df.columns[23:-1]].astype(\"boolean\")"
   ],
   "metadata": {
    "collapsed": false,
    "pycharm": {
     "name": "#%%\n"
    }
   }
  },
  {
   "cell_type": "code",
   "execution_count": 6,
   "outputs": [
    {
     "data": {
      "text/plain": "FMID                0\nMarketName          0\nWebsite          3458\nFacebook         4869\nTwitter          7668\nYoutube          8504\nOtherMedia       8027\nstreet            285\ncity               40\nCounty            538\nState               0\nzip               944\nSeason1Date      3279\nSeason1Time      3140\nSeason2Date      8236\nSeason2Time      8251\nSeason3Date      8586\nSeason3Time      8590\nSeason4Date      8658\nSeason4Time      8658\nLAT                29\nLON                29\nLocation         5729\nCredit              0\nWIC                 0\nWICcash             0\nSFMNP               0\nSNAP                0\nOrganic          5070\nBakedgoods       3023\nCheese           3023\nCrafts           3023\nFlowers          3023\nEggs             3023\nSeafood          3023\nHerbs            3023\nVegetables       3023\nHoney            3023\nJams             3023\nMaple            3023\nMeat             3023\nNursery          3023\nNuts             3023\nPlants           3023\nPoultry          3023\nPrepared         3023\nSoap             3023\nWine             3023\nCoffee           3023\nBeans            3023\nFruits           3023\nGrains           3023\nJuices           3023\nMushrooms        3023\nPetFood          3023\nTofu             3023\nWildHarvested    3023\nupdateTime          0\ndtype: int64"
     },
     "execution_count": 6,
     "metadata": {},
     "output_type": "execute_result"
    }
   ],
   "source": [
    "# Check number of columns have missing values\n",
    "df.isna().sum()"
   ],
   "metadata": {
    "collapsed": false,
    "pycharm": {
     "name": "#%%\n"
    }
   }
  },
  {
   "cell_type": "code",
   "execution_count": 12,
   "outputs": [
    {
     "data": {
      "text/plain": "      Credit    WIC  WICcash  SFMNP   SNAP  Organic  Bakedgoods  Cheese  \\\n0      False  False    False  False  False     <NA>        <NA>    <NA>   \n1       True   True    False   True   True     True        True   False   \n2      False  False    False  False  False     <NA>        <NA>    <NA>   \n3      False  False    False  False  False     <NA>        <NA>    <NA>   \n4       True  False    False  False   True     True        True    True   \n...      ...    ...      ...    ...    ...      ...         ...     ...   \n8660    True  False    False  False  False     <NA>        <NA>    <NA>   \n8661    True  False    False  False  False     <NA>        <NA>    <NA>   \n8662    True  False    False  False  False     <NA>        <NA>    <NA>   \n8663    True  False    False  False  False     <NA>        <NA>    <NA>   \n8664    True  False    False  False  False     <NA>        <NA>    <NA>   \n\n      Crafts  Flowers  ...   Wine  Coffee  Beans  Fruits  Grains  Juices  \\\n0       <NA>     <NA>  ...   <NA>    <NA>   <NA>    <NA>    <NA>    <NA>   \n1       True     True  ...  False   False  False    True   False   False   \n2       <NA>     <NA>  ...   <NA>    <NA>   <NA>    <NA>    <NA>    <NA>   \n3       <NA>     <NA>  ...   <NA>    <NA>   <NA>    <NA>    <NA>    <NA>   \n4       True     True  ...  False    True   True    True   False   False   \n...      ...      ...  ...    ...     ...    ...     ...     ...     ...   \n8660    <NA>     <NA>  ...   <NA>    <NA>   <NA>    <NA>    <NA>    <NA>   \n8661    <NA>     <NA>  ...   <NA>    <NA>   <NA>    <NA>    <NA>    <NA>   \n8662    <NA>     <NA>  ...   <NA>    <NA>   <NA>    <NA>    <NA>    <NA>   \n8663    <NA>     <NA>  ...   <NA>    <NA>   <NA>    <NA>    <NA>    <NA>   \n8664    <NA>     <NA>  ...   <NA>    <NA>   <NA>    <NA>    <NA>    <NA>   \n\n      Mushrooms  PetFood   Tofu  WildHarvested  \n0          <NA>     <NA>   <NA>           <NA>  \n1         False    False  False          False  \n2          <NA>     <NA>   <NA>           <NA>  \n3          <NA>     <NA>   <NA>           <NA>  \n4          True     True  False          False  \n...         ...      ...    ...            ...  \n8660       <NA>     <NA>   <NA>           <NA>  \n8661       <NA>     <NA>   <NA>           <NA>  \n8662       <NA>     <NA>   <NA>           <NA>  \n8663       <NA>     <NA>   <NA>           <NA>  \n8664       <NA>     <NA>   <NA>           <NA>  \n\n[8665 rows x 34 columns]",
      "text/html": "<div>\n<style scoped>\n    .dataframe tbody tr th:only-of-type {\n        vertical-align: middle;\n    }\n\n    .dataframe tbody tr th {\n        vertical-align: top;\n    }\n\n    .dataframe thead th {\n        text-align: right;\n    }\n</style>\n<table border=\"1\" class=\"dataframe\">\n  <thead>\n    <tr style=\"text-align: right;\">\n      <th></th>\n      <th>Credit</th>\n      <th>WIC</th>\n      <th>WICcash</th>\n      <th>SFMNP</th>\n      <th>SNAP</th>\n      <th>Organic</th>\n      <th>Bakedgoods</th>\n      <th>Cheese</th>\n      <th>Crafts</th>\n      <th>Flowers</th>\n      <th>...</th>\n      <th>Wine</th>\n      <th>Coffee</th>\n      <th>Beans</th>\n      <th>Fruits</th>\n      <th>Grains</th>\n      <th>Juices</th>\n      <th>Mushrooms</th>\n      <th>PetFood</th>\n      <th>Tofu</th>\n      <th>WildHarvested</th>\n    </tr>\n  </thead>\n  <tbody>\n    <tr>\n      <th>0</th>\n      <td>False</td>\n      <td>False</td>\n      <td>False</td>\n      <td>False</td>\n      <td>False</td>\n      <td>&lt;NA&gt;</td>\n      <td>&lt;NA&gt;</td>\n      <td>&lt;NA&gt;</td>\n      <td>&lt;NA&gt;</td>\n      <td>&lt;NA&gt;</td>\n      <td>...</td>\n      <td>&lt;NA&gt;</td>\n      <td>&lt;NA&gt;</td>\n      <td>&lt;NA&gt;</td>\n      <td>&lt;NA&gt;</td>\n      <td>&lt;NA&gt;</td>\n      <td>&lt;NA&gt;</td>\n      <td>&lt;NA&gt;</td>\n      <td>&lt;NA&gt;</td>\n      <td>&lt;NA&gt;</td>\n      <td>&lt;NA&gt;</td>\n    </tr>\n    <tr>\n      <th>1</th>\n      <td>True</td>\n      <td>True</td>\n      <td>False</td>\n      <td>True</td>\n      <td>True</td>\n      <td>True</td>\n      <td>True</td>\n      <td>False</td>\n      <td>True</td>\n      <td>True</td>\n      <td>...</td>\n      <td>False</td>\n      <td>False</td>\n      <td>False</td>\n      <td>True</td>\n      <td>False</td>\n      <td>False</td>\n      <td>False</td>\n      <td>False</td>\n      <td>False</td>\n      <td>False</td>\n    </tr>\n    <tr>\n      <th>2</th>\n      <td>False</td>\n      <td>False</td>\n      <td>False</td>\n      <td>False</td>\n      <td>False</td>\n      <td>&lt;NA&gt;</td>\n      <td>&lt;NA&gt;</td>\n      <td>&lt;NA&gt;</td>\n      <td>&lt;NA&gt;</td>\n      <td>&lt;NA&gt;</td>\n      <td>...</td>\n      <td>&lt;NA&gt;</td>\n      <td>&lt;NA&gt;</td>\n      <td>&lt;NA&gt;</td>\n      <td>&lt;NA&gt;</td>\n      <td>&lt;NA&gt;</td>\n      <td>&lt;NA&gt;</td>\n      <td>&lt;NA&gt;</td>\n      <td>&lt;NA&gt;</td>\n      <td>&lt;NA&gt;</td>\n      <td>&lt;NA&gt;</td>\n    </tr>\n    <tr>\n      <th>3</th>\n      <td>False</td>\n      <td>False</td>\n      <td>False</td>\n      <td>False</td>\n      <td>False</td>\n      <td>&lt;NA&gt;</td>\n      <td>&lt;NA&gt;</td>\n      <td>&lt;NA&gt;</td>\n      <td>&lt;NA&gt;</td>\n      <td>&lt;NA&gt;</td>\n      <td>...</td>\n      <td>&lt;NA&gt;</td>\n      <td>&lt;NA&gt;</td>\n      <td>&lt;NA&gt;</td>\n      <td>&lt;NA&gt;</td>\n      <td>&lt;NA&gt;</td>\n      <td>&lt;NA&gt;</td>\n      <td>&lt;NA&gt;</td>\n      <td>&lt;NA&gt;</td>\n      <td>&lt;NA&gt;</td>\n      <td>&lt;NA&gt;</td>\n    </tr>\n    <tr>\n      <th>4</th>\n      <td>True</td>\n      <td>False</td>\n      <td>False</td>\n      <td>False</td>\n      <td>True</td>\n      <td>True</td>\n      <td>True</td>\n      <td>True</td>\n      <td>True</td>\n      <td>True</td>\n      <td>...</td>\n      <td>False</td>\n      <td>True</td>\n      <td>True</td>\n      <td>True</td>\n      <td>False</td>\n      <td>False</td>\n      <td>True</td>\n      <td>True</td>\n      <td>False</td>\n      <td>False</td>\n    </tr>\n    <tr>\n      <th>...</th>\n      <td>...</td>\n      <td>...</td>\n      <td>...</td>\n      <td>...</td>\n      <td>...</td>\n      <td>...</td>\n      <td>...</td>\n      <td>...</td>\n      <td>...</td>\n      <td>...</td>\n      <td>...</td>\n      <td>...</td>\n      <td>...</td>\n      <td>...</td>\n      <td>...</td>\n      <td>...</td>\n      <td>...</td>\n      <td>...</td>\n      <td>...</td>\n      <td>...</td>\n      <td>...</td>\n    </tr>\n    <tr>\n      <th>8660</th>\n      <td>True</td>\n      <td>False</td>\n      <td>False</td>\n      <td>False</td>\n      <td>False</td>\n      <td>&lt;NA&gt;</td>\n      <td>&lt;NA&gt;</td>\n      <td>&lt;NA&gt;</td>\n      <td>&lt;NA&gt;</td>\n      <td>&lt;NA&gt;</td>\n      <td>...</td>\n      <td>&lt;NA&gt;</td>\n      <td>&lt;NA&gt;</td>\n      <td>&lt;NA&gt;</td>\n      <td>&lt;NA&gt;</td>\n      <td>&lt;NA&gt;</td>\n      <td>&lt;NA&gt;</td>\n      <td>&lt;NA&gt;</td>\n      <td>&lt;NA&gt;</td>\n      <td>&lt;NA&gt;</td>\n      <td>&lt;NA&gt;</td>\n    </tr>\n    <tr>\n      <th>8661</th>\n      <td>True</td>\n      <td>False</td>\n      <td>False</td>\n      <td>False</td>\n      <td>False</td>\n      <td>&lt;NA&gt;</td>\n      <td>&lt;NA&gt;</td>\n      <td>&lt;NA&gt;</td>\n      <td>&lt;NA&gt;</td>\n      <td>&lt;NA&gt;</td>\n      <td>...</td>\n      <td>&lt;NA&gt;</td>\n      <td>&lt;NA&gt;</td>\n      <td>&lt;NA&gt;</td>\n      <td>&lt;NA&gt;</td>\n      <td>&lt;NA&gt;</td>\n      <td>&lt;NA&gt;</td>\n      <td>&lt;NA&gt;</td>\n      <td>&lt;NA&gt;</td>\n      <td>&lt;NA&gt;</td>\n      <td>&lt;NA&gt;</td>\n    </tr>\n    <tr>\n      <th>8662</th>\n      <td>True</td>\n      <td>False</td>\n      <td>False</td>\n      <td>False</td>\n      <td>False</td>\n      <td>&lt;NA&gt;</td>\n      <td>&lt;NA&gt;</td>\n      <td>&lt;NA&gt;</td>\n      <td>&lt;NA&gt;</td>\n      <td>&lt;NA&gt;</td>\n      <td>...</td>\n      <td>&lt;NA&gt;</td>\n      <td>&lt;NA&gt;</td>\n      <td>&lt;NA&gt;</td>\n      <td>&lt;NA&gt;</td>\n      <td>&lt;NA&gt;</td>\n      <td>&lt;NA&gt;</td>\n      <td>&lt;NA&gt;</td>\n      <td>&lt;NA&gt;</td>\n      <td>&lt;NA&gt;</td>\n      <td>&lt;NA&gt;</td>\n    </tr>\n    <tr>\n      <th>8663</th>\n      <td>True</td>\n      <td>False</td>\n      <td>False</td>\n      <td>False</td>\n      <td>False</td>\n      <td>&lt;NA&gt;</td>\n      <td>&lt;NA&gt;</td>\n      <td>&lt;NA&gt;</td>\n      <td>&lt;NA&gt;</td>\n      <td>&lt;NA&gt;</td>\n      <td>...</td>\n      <td>&lt;NA&gt;</td>\n      <td>&lt;NA&gt;</td>\n      <td>&lt;NA&gt;</td>\n      <td>&lt;NA&gt;</td>\n      <td>&lt;NA&gt;</td>\n      <td>&lt;NA&gt;</td>\n      <td>&lt;NA&gt;</td>\n      <td>&lt;NA&gt;</td>\n      <td>&lt;NA&gt;</td>\n      <td>&lt;NA&gt;</td>\n    </tr>\n    <tr>\n      <th>8664</th>\n      <td>True</td>\n      <td>False</td>\n      <td>False</td>\n      <td>False</td>\n      <td>False</td>\n      <td>&lt;NA&gt;</td>\n      <td>&lt;NA&gt;</td>\n      <td>&lt;NA&gt;</td>\n      <td>&lt;NA&gt;</td>\n      <td>&lt;NA&gt;</td>\n      <td>...</td>\n      <td>&lt;NA&gt;</td>\n      <td>&lt;NA&gt;</td>\n      <td>&lt;NA&gt;</td>\n      <td>&lt;NA&gt;</td>\n      <td>&lt;NA&gt;</td>\n      <td>&lt;NA&gt;</td>\n      <td>&lt;NA&gt;</td>\n      <td>&lt;NA&gt;</td>\n      <td>&lt;NA&gt;</td>\n      <td>&lt;NA&gt;</td>\n    </tr>\n  </tbody>\n</table>\n<p>8665 rows × 34 columns</p>\n</div>"
     },
     "execution_count": 12,
     "metadata": {},
     "output_type": "execute_result"
    }
   ],
   "source": [
    "df[df.columns[23:-1]]"
   ],
   "metadata": {
    "collapsed": false,
    "pycharm": {
     "name": "#%%\n"
    }
   }
  },
  {
   "cell_type": "code",
   "execution_count": null,
   "outputs": [],
   "source": [
    "df[df.columns[23:-1]]"
   ],
   "metadata": {
    "collapsed": false,
    "pycharm": {
     "name": "#%%\n"
    }
   }
  },
  {
   "cell_type": "code",
   "execution_count": 7,
   "outputs": [],
   "source": [
    "df=df[df['LAT'].notna()]\n",
    "df=df[df['LON'].notna()]"
   ],
   "metadata": {
    "collapsed": false,
    "pycharm": {
     "name": "#%%\n"
    }
   }
  },
  {
   "cell_type": "code",
   "execution_count": 14,
   "outputs": [
    {
     "data": {
      "text/plain": "1000001    1\n1008437    1\n1008460    1\n1008457    1\n1008456    1\n          ..\n1004111    1\n1004109    1\n1004108    1\n1004107    1\n1016770    1\nName: FMID, Length: 8636, dtype: int64"
     },
     "execution_count": 14,
     "metadata": {},
     "output_type": "execute_result"
    }
   ],
   "source": [
    "df['FMID'].value_counts(ascending=False)"
   ],
   "metadata": {
    "collapsed": false,
    "pycharm": {
     "name": "#%%\n"
    }
   }
  },
  {
   "cell_type": "code",
   "execution_count": null,
   "outputs": [],
   "source": [
    "import folium\n",
    "# Create a map of U.S. farmers markets using latitude and longitude values\n",
    "map_markets = folium.Map(location=[39.8283, -98.5795], zoom_start=5, popup='Portland, OR')\n",
    "\n",
    "# add markers to map\n",
    "for  lng,lat, market, state in zip(df['LAT'],df['LON'], df['MarketName'], df['State']):\n",
    "    label = '{}, {}'.format(market, state)\n",
    "    label = folium.Popup(label, parse_html=True)\n",
    "    folium.CircleMarker(\n",
    "        [lat, lng],\n",
    "        radius=1,\n",
    "        popup=label,\n",
    "        color='blue',\n",
    "        fill=True,\n",
    "        fill_color='#31cc34',\n",
    "        fill_opacity=0.5,\n",
    "        parse_html=False).add_to(map_markets)\n",
    "\n",
    "map_markets"
   ],
   "metadata": {
    "collapsed": false,
    "pycharm": {
     "name": "#%%\n"
    }
   }
  },
  {
   "cell_type": "code",
   "execution_count": 8,
   "outputs": [],
   "source": [
    "import sqlite3\n",
    "\n",
    "conn = sqlite3.connect(\"farmers_market.db\")"
   ],
   "metadata": {
    "collapsed": false,
    "pycharm": {
     "name": "#%%\n"
    }
   }
  },
  {
   "cell_type": "code",
   "execution_count": 13,
   "outputs": [
    {
     "data": {
      "text/plain": "8636"
     },
     "execution_count": 13,
     "metadata": {},
     "output_type": "execute_result"
    }
   ],
   "source": [
    "df.to_sql(\"farmers_market\", conn, if_exists=\"replace\")"
   ],
   "metadata": {
    "collapsed": false,
    "pycharm": {
     "name": "#%%\n"
    }
   }
  },
  {
   "cell_type": "code",
   "execution_count": 12,
   "outputs": [
    {
     "ename": "OperationalError",
     "evalue": "table farmers_market already exists",
     "output_type": "error",
     "traceback": [
      "\u001B[0;31m---------------------------------------------------------------------------\u001B[0m",
      "\u001B[0;31mOperationalError\u001B[0m                          Traceback (most recent call last)",
      "Input \u001B[0;32mIn [12]\u001B[0m, in \u001B[0;36m<cell line: 1>\u001B[0;34m()\u001B[0m\n\u001B[0;32m----> 1\u001B[0m \u001B[43mconn\u001B[49m\u001B[38;5;241;43m.\u001B[39;49m\u001B[43mexecute\u001B[49m\u001B[43m(\u001B[49m\n\u001B[1;32m      2\u001B[0m \u001B[43m    \u001B[49m\u001B[38;5;124;43;03m\"\"\"\u001B[39;49;00m\n\u001B[1;32m      3\u001B[0m \u001B[38;5;124;43;03m    create table farmers_market as\u001B[39;49;00m\n\u001B[1;32m      4\u001B[0m \u001B[38;5;124;43;03m    select * from tmp\u001B[39;49;00m\n\u001B[1;32m      5\u001B[0m \u001B[38;5;124;43;03m    \"\"\"\u001B[39;49;00m\u001B[43m)\u001B[49m\n",
      "\u001B[0;31mOperationalError\u001B[0m: table farmers_market already exists"
     ]
    }
   ],
   "source": [
    "conn.execute(\n",
    "    \"\"\"\n",
    "    create table farmers_market as\n",
    "    select * from tmp\n",
    "    \"\"\")"
   ],
   "metadata": {
    "collapsed": false,
    "pycharm": {
     "name": "#%%\n"
    }
   }
  },
  {
   "cell_type": "code",
   "execution_count": null,
   "outputs": [],
   "source": [],
   "metadata": {
    "collapsed": false,
    "pycharm": {
     "name": "#%%\n"
    }
   }
  }
 ],
 "metadata": {
  "kernelspec": {
   "name": "python3",
   "language": "python",
   "display_name": "Python 3 (ipykernel)"
  },
  "language_info": {
   "codemirror_mode": {
    "name": "ipython",
    "version": 2
   },
   "file_extension": ".py",
   "mimetype": "text/x-python",
   "name": "python",
   "nbconvert_exporter": "python",
   "pygments_lexer": "ipython2",
   "version": "2.7.6"
  }
 },
 "nbformat": 4,
 "nbformat_minor": 0
}